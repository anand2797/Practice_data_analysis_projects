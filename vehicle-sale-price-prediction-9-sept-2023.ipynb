{
 "cells": [
  {
   "cell_type": "markdown",
   "id": "145e2682",
   "metadata": {
    "papermill": {
     "duration": 0.026111,
     "end_time": "2023-09-09T12:13:01.500720",
     "exception": false,
     "start_time": "2023-09-09T12:13:01.474609",
     "status": "completed"
    },
    "tags": []
   },
   "source": [
    "# Vehicle Price Prediction"
   ]
  },
  {
   "cell_type": "code",
   "execution_count": 1,
   "id": "a8d05193",
   "metadata": {
    "_cell_guid": "b1076dfc-b9ad-4769-8c92-a6c4dae69d19",
    "_uuid": "8f2839f25d086af736a60e9eeb907d3b93b6e0e5",
    "execution": {
     "iopub.execute_input": "2023-09-09T12:13:01.545745Z",
     "iopub.status.busy": "2023-09-09T12:13:01.545226Z",
     "iopub.status.idle": "2023-09-09T12:13:02.769350Z",
     "shell.execute_reply": "2023-09-09T12:13:02.768437Z"
    },
    "papermill": {
     "duration": 1.249775,
     "end_time": "2023-09-09T12:13:02.772172",
     "exception": false,
     "start_time": "2023-09-09T12:13:01.522397",
     "status": "completed"
    },
    "tags": []
   },
   "outputs": [
    {
     "name": "stdout",
     "output_type": "stream",
     "text": [
      "/kaggle/input/vehicle-dataset-from-cardekho/car data.csv\n",
      "/kaggle/input/vehicle-dataset-from-cardekho/car details v4.csv\n",
      "/kaggle/input/vehicle-dataset-from-cardekho/CAR DETAILS FROM CAR DEKHO.csv\n",
      "/kaggle/input/vehicle-dataset-from-cardekho/Car details v3.csv\n"
     ]
    }
   ],
   "source": [
    "# This Python 3 environment comes with many helpful analytics libraries installed\n",
    "# It is defined by the kaggle/python Docker image: https://github.com/kaggle/docker-python\n",
    "# For example, here's several helpful packages to load\n",
    "\n",
    "import numpy as np # linear algebra\n",
    "import pandas as pd # data processing, CSV file I/O (e.g. pd.read_csv)\n",
    "import matplotlib.pyplot as plt # ploting purpose\n",
    "import seaborn as sns  # visualization purpose\n",
    "\n",
    "# Input data files are available in the read-only \"../input/\" directory\n",
    "# For example, running this (by clicking run or pressing Shift+Enter) will list all files under the input directory\n",
    "\n",
    "import os\n",
    "for dirname, _, filenames in os.walk('/kaggle/input'):\n",
    "    for filename in filenames:\n",
    "        print(os.path.join(dirname, filename))\n",
    "\n",
    "# You can write up to 20GB to the current directory (/kaggle/working/) that gets preserved as output when you create a version using \"Save & Run All\" \n",
    "# You can also write temporary files to /kaggle/temp/, but they won't be saved outside of the current session"
   ]
  },
  {
   "cell_type": "code",
   "execution_count": 2,
   "id": "3c278fe6",
   "metadata": {
    "execution": {
     "iopub.execute_input": "2023-09-09T12:13:02.816630Z",
     "iopub.status.busy": "2023-09-09T12:13:02.816231Z",
     "iopub.status.idle": "2023-09-09T12:13:03.021356Z",
     "shell.execute_reply": "2023-09-09T12:13:03.020091Z"
    },
    "papermill": {
     "duration": 0.23064,
     "end_time": "2023-09-09T12:13:03.024266",
     "exception": false,
     "start_time": "2023-09-09T12:13:02.793626",
     "status": "completed"
    },
    "tags": []
   },
   "outputs": [],
   "source": [
    "from sklearn.model_selection import train_test_split\n",
    "from sklearn.preprocessing import OneHotEncoder, StandardScaler, MinMaxScaler "
   ]
  },
  {
   "cell_type": "markdown",
   "id": "27b922a4",
   "metadata": {
    "papermill": {
     "duration": 0.021225,
     "end_time": "2023-09-09T12:13:03.066795",
     "exception": false,
     "start_time": "2023-09-09T12:13:03.045570",
     "status": "completed"
    },
    "tags": []
   },
   "source": [
    "# Machine Learning Algorithms- sklearn imports"
   ]
  },
  {
   "cell_type": "code",
   "execution_count": 3,
   "id": "2084eb60",
   "metadata": {
    "execution": {
     "iopub.execute_input": "2023-09-09T12:13:03.112065Z",
     "iopub.status.busy": "2023-09-09T12:13:03.111608Z",
     "iopub.status.idle": "2023-09-09T12:13:03.341330Z",
     "shell.execute_reply": "2023-09-09T12:13:03.340078Z"
    },
    "papermill": {
     "duration": 0.256282,
     "end_time": "2023-09-09T12:13:03.344224",
     "exception": false,
     "start_time": "2023-09-09T12:13:03.087942",
     "status": "completed"
    },
    "tags": []
   },
   "outputs": [],
   "source": [
    "from sklearn.linear_model import LinearRegression\n",
    "from sklearn.svm import SVR\n",
    "from sklearn.neighbors import KNeighborsRegressor\n",
    "from sklearn.tree import DecisionTreeRegressor\n",
    "from sklearn.ensemble import RandomForestRegressor"
   ]
  },
  {
   "cell_type": "code",
   "execution_count": 4,
   "id": "fb75b0f5",
   "metadata": {
    "execution": {
     "iopub.execute_input": "2023-09-09T12:13:03.389252Z",
     "iopub.status.busy": "2023-09-09T12:13:03.388829Z",
     "iopub.status.idle": "2023-09-09T12:13:03.406902Z",
     "shell.execute_reply": "2023-09-09T12:13:03.405526Z"
    },
    "papermill": {
     "duration": 0.044728,
     "end_time": "2023-09-09T12:13:03.410082",
     "exception": false,
     "start_time": "2023-09-09T12:13:03.365354",
     "status": "completed"
    },
    "tags": []
   },
   "outputs": [],
   "source": [
    "data = pd.read_csv(\"/kaggle/input/vehicle-dataset-from-cardekho/car data.csv\")"
   ]
  },
  {
   "cell_type": "code",
   "execution_count": 5,
   "id": "29b0d8bd",
   "metadata": {
    "execution": {
     "iopub.execute_input": "2023-09-09T12:13:03.455901Z",
     "iopub.status.busy": "2023-09-09T12:13:03.455449Z",
     "iopub.status.idle": "2023-09-09T12:13:03.483203Z",
     "shell.execute_reply": "2023-09-09T12:13:03.481872Z"
    },
    "papermill": {
     "duration": 0.054078,
     "end_time": "2023-09-09T12:13:03.486119",
     "exception": false,
     "start_time": "2023-09-09T12:13:03.432041",
     "status": "completed"
    },
    "tags": []
   },
   "outputs": [
    {
     "data": {
      "text/html": [
       "<div>\n",
       "<style scoped>\n",
       "    .dataframe tbody tr th:only-of-type {\n",
       "        vertical-align: middle;\n",
       "    }\n",
       "\n",
       "    .dataframe tbody tr th {\n",
       "        vertical-align: top;\n",
       "    }\n",
       "\n",
       "    .dataframe thead th {\n",
       "        text-align: right;\n",
       "    }\n",
       "</style>\n",
       "<table border=\"1\" class=\"dataframe\">\n",
       "  <thead>\n",
       "    <tr style=\"text-align: right;\">\n",
       "      <th></th>\n",
       "      <th>Car_Name</th>\n",
       "      <th>Year</th>\n",
       "      <th>Selling_Price</th>\n",
       "      <th>Present_Price</th>\n",
       "      <th>Kms_Driven</th>\n",
       "      <th>Fuel_Type</th>\n",
       "      <th>Seller_Type</th>\n",
       "      <th>Transmission</th>\n",
       "      <th>Owner</th>\n",
       "    </tr>\n",
       "  </thead>\n",
       "  <tbody>\n",
       "    <tr>\n",
       "      <th>0</th>\n",
       "      <td>ritz</td>\n",
       "      <td>2014</td>\n",
       "      <td>3.35</td>\n",
       "      <td>5.59</td>\n",
       "      <td>27000</td>\n",
       "      <td>Petrol</td>\n",
       "      <td>Dealer</td>\n",
       "      <td>Manual</td>\n",
       "      <td>0</td>\n",
       "    </tr>\n",
       "    <tr>\n",
       "      <th>1</th>\n",
       "      <td>sx4</td>\n",
       "      <td>2013</td>\n",
       "      <td>4.75</td>\n",
       "      <td>9.54</td>\n",
       "      <td>43000</td>\n",
       "      <td>Diesel</td>\n",
       "      <td>Dealer</td>\n",
       "      <td>Manual</td>\n",
       "      <td>0</td>\n",
       "    </tr>\n",
       "    <tr>\n",
       "      <th>2</th>\n",
       "      <td>ciaz</td>\n",
       "      <td>2017</td>\n",
       "      <td>7.25</td>\n",
       "      <td>9.85</td>\n",
       "      <td>6900</td>\n",
       "      <td>Petrol</td>\n",
       "      <td>Dealer</td>\n",
       "      <td>Manual</td>\n",
       "      <td>0</td>\n",
       "    </tr>\n",
       "    <tr>\n",
       "      <th>3</th>\n",
       "      <td>wagon r</td>\n",
       "      <td>2011</td>\n",
       "      <td>2.85</td>\n",
       "      <td>4.15</td>\n",
       "      <td>5200</td>\n",
       "      <td>Petrol</td>\n",
       "      <td>Dealer</td>\n",
       "      <td>Manual</td>\n",
       "      <td>0</td>\n",
       "    </tr>\n",
       "    <tr>\n",
       "      <th>4</th>\n",
       "      <td>swift</td>\n",
       "      <td>2014</td>\n",
       "      <td>4.60</td>\n",
       "      <td>6.87</td>\n",
       "      <td>42450</td>\n",
       "      <td>Diesel</td>\n",
       "      <td>Dealer</td>\n",
       "      <td>Manual</td>\n",
       "      <td>0</td>\n",
       "    </tr>\n",
       "  </tbody>\n",
       "</table>\n",
       "</div>"
      ],
      "text/plain": [
       "  Car_Name  Year  Selling_Price  Present_Price  Kms_Driven Fuel_Type  \\\n",
       "0     ritz  2014           3.35           5.59       27000    Petrol   \n",
       "1      sx4  2013           4.75           9.54       43000    Diesel   \n",
       "2     ciaz  2017           7.25           9.85        6900    Petrol   \n",
       "3  wagon r  2011           2.85           4.15        5200    Petrol   \n",
       "4    swift  2014           4.60           6.87       42450    Diesel   \n",
       "\n",
       "  Seller_Type Transmission  Owner  \n",
       "0      Dealer       Manual      0  \n",
       "1      Dealer       Manual      0  \n",
       "2      Dealer       Manual      0  \n",
       "3      Dealer       Manual      0  \n",
       "4      Dealer       Manual      0  "
      ]
     },
     "execution_count": 5,
     "metadata": {},
     "output_type": "execute_result"
    }
   ],
   "source": [
    "data.head()"
   ]
  },
  {
   "cell_type": "code",
   "execution_count": 6,
   "id": "4c7fd1ce",
   "metadata": {
    "execution": {
     "iopub.execute_input": "2023-09-09T12:13:03.530852Z",
     "iopub.status.busy": "2023-09-09T12:13:03.530400Z",
     "iopub.status.idle": "2023-09-09T12:13:03.538381Z",
     "shell.execute_reply": "2023-09-09T12:13:03.537163Z"
    },
    "papermill": {
     "duration": 0.033388,
     "end_time": "2023-09-09T12:13:03.541120",
     "exception": false,
     "start_time": "2023-09-09T12:13:03.507732",
     "status": "completed"
    },
    "tags": []
   },
   "outputs": [
    {
     "data": {
      "text/plain": [
       "(301, 9)"
      ]
     },
     "execution_count": 6,
     "metadata": {},
     "output_type": "execute_result"
    }
   ],
   "source": [
    "data.shape"
   ]
  },
  {
   "cell_type": "code",
   "execution_count": 7,
   "id": "db6a8eb6",
   "metadata": {
    "execution": {
     "iopub.execute_input": "2023-09-09T12:13:03.586224Z",
     "iopub.status.busy": "2023-09-09T12:13:03.585755Z",
     "iopub.status.idle": "2023-09-09T12:13:03.613947Z",
     "shell.execute_reply": "2023-09-09T12:13:03.612081Z"
    },
    "papermill": {
     "duration": 0.053663,
     "end_time": "2023-09-09T12:13:03.616498",
     "exception": false,
     "start_time": "2023-09-09T12:13:03.562835",
     "status": "completed"
    },
    "tags": []
   },
   "outputs": [
    {
     "name": "stdout",
     "output_type": "stream",
     "text": [
      "<class 'pandas.core.frame.DataFrame'>\n",
      "RangeIndex: 301 entries, 0 to 300\n",
      "Data columns (total 9 columns):\n",
      " #   Column         Non-Null Count  Dtype  \n",
      "---  ------         --------------  -----  \n",
      " 0   Car_Name       301 non-null    object \n",
      " 1   Year           301 non-null    int64  \n",
      " 2   Selling_Price  301 non-null    float64\n",
      " 3   Present_Price  301 non-null    float64\n",
      " 4   Kms_Driven     301 non-null    int64  \n",
      " 5   Fuel_Type      301 non-null    object \n",
      " 6   Seller_Type    301 non-null    object \n",
      " 7   Transmission   301 non-null    object \n",
      " 8   Owner          301 non-null    int64  \n",
      "dtypes: float64(2), int64(3), object(4)\n",
      "memory usage: 21.3+ KB\n"
     ]
    }
   ],
   "source": [
    "data.info()"
   ]
  },
  {
   "cell_type": "code",
   "execution_count": 8,
   "id": "2f0aa567",
   "metadata": {
    "execution": {
     "iopub.execute_input": "2023-09-09T12:13:03.662623Z",
     "iopub.status.busy": "2023-09-09T12:13:03.661546Z",
     "iopub.status.idle": "2023-09-09T12:13:03.667750Z",
     "shell.execute_reply": "2023-09-09T12:13:03.666830Z"
    },
    "papermill": {
     "duration": 0.032075,
     "end_time": "2023-09-09T12:13:03.670472",
     "exception": false,
     "start_time": "2023-09-09T12:13:03.638397",
     "status": "completed"
    },
    "tags": []
   },
   "outputs": [
    {
     "name": "stdout",
     "output_type": "stream",
     "text": [
      "Fuel_Type\n",
      "Seller_Type\n",
      "Transmission\n"
     ]
    }
   ],
   "source": [
    "for i in data.columns[5:8]:\n",
    "    print(f'{i}')"
   ]
  },
  {
   "cell_type": "code",
   "execution_count": 9,
   "id": "6f6fa30f",
   "metadata": {
    "execution": {
     "iopub.execute_input": "2023-09-09T12:13:03.716599Z",
     "iopub.status.busy": "2023-09-09T12:13:03.716131Z",
     "iopub.status.idle": "2023-09-09T12:13:03.724950Z",
     "shell.execute_reply": "2023-09-09T12:13:03.723282Z"
    },
    "papermill": {
     "duration": 0.034678,
     "end_time": "2023-09-09T12:13:03.727334",
     "exception": false,
     "start_time": "2023-09-09T12:13:03.692656",
     "status": "completed"
    },
    "tags": []
   },
   "outputs": [
    {
     "name": "stdout",
     "output_type": "stream",
     "text": [
      "Fuel_Type  =  ['Petrol' 'Diesel' 'CNG']\n",
      "Seller_Type  =  ['Dealer' 'Individual']\n",
      "Transmission  =  ['Manual' 'Automatic']\n",
      "Owner  =  [0 1 3]\n"
     ]
    }
   ],
   "source": [
    "for i in data.columns[5::]:\n",
    "    print(i, \" = \",data[f\"{i}\"].unique())\n",
    "    "
   ]
  },
  {
   "cell_type": "code",
   "execution_count": 10,
   "id": "34ba9475",
   "metadata": {
    "execution": {
     "iopub.execute_input": "2023-09-09T12:13:03.773297Z",
     "iopub.status.busy": "2023-09-09T12:13:03.772864Z",
     "iopub.status.idle": "2023-09-09T12:13:03.782768Z",
     "shell.execute_reply": "2023-09-09T12:13:03.781753Z"
    },
    "papermill": {
     "duration": 0.035742,
     "end_time": "2023-09-09T12:13:03.785150",
     "exception": false,
     "start_time": "2023-09-09T12:13:03.749408",
     "status": "completed"
    },
    "tags": []
   },
   "outputs": [
    {
     "data": {
      "text/plain": [
       "Car_Name         0\n",
       "Year             0\n",
       "Selling_Price    0\n",
       "Present_Price    0\n",
       "Kms_Driven       0\n",
       "Fuel_Type        0\n",
       "Seller_Type      0\n",
       "Transmission     0\n",
       "Owner            0\n",
       "dtype: int64"
      ]
     },
     "execution_count": 10,
     "metadata": {},
     "output_type": "execute_result"
    }
   ],
   "source": [
    "# checking null values in dataset\n",
    "data.isnull().sum()"
   ]
  },
  {
   "cell_type": "markdown",
   "id": "a82ec0eb",
   "metadata": {
    "papermill": {
     "duration": 0.022541,
     "end_time": "2023-09-09T12:13:03.830486",
     "exception": false,
     "start_time": "2023-09-09T12:13:03.807945",
     "status": "completed"
    },
    "tags": []
   },
   "source": [
    "# We have not any null value in our dataset"
   ]
  },
  {
   "cell_type": "code",
   "execution_count": 11,
   "id": "041fe3c2",
   "metadata": {
    "execution": {
     "iopub.execute_input": "2023-09-09T12:13:03.876625Z",
     "iopub.status.busy": "2023-09-09T12:13:03.876212Z",
     "iopub.status.idle": "2023-09-09T12:13:05.154765Z",
     "shell.execute_reply": "2023-09-09T12:13:05.153384Z"
    },
    "papermill": {
     "duration": 1.305576,
     "end_time": "2023-09-09T12:13:05.157997",
     "exception": false,
     "start_time": "2023-09-09T12:13:03.852421",
     "status": "completed"
    },
    "tags": []
   },
   "outputs": [
    {
     "data": {
      "text/plain": [
       "<AxesSubplot:>"
      ]
     },
     "execution_count": 11,
     "metadata": {},
     "output_type": "execute_result"
    },
    {
     "data": {
      "image/png": "[encoded data removed]",
      "text/plain": [
       "<Figure size 1080x864 with 2 Axes>"
      ]
     },
     "metadata": {
      "needs_background": "light"
     },
     "output_type": "display_data"
    }
   ],
   "source": [
    "plt.figure(figsize=(15,12))\n",
    "sns.heatmap(data=data.isnull())"
   ]
  },
  {
   "cell_type": "code",
   "execution_count": 12,
   "id": "64ec85d2",
   "metadata": {
    "execution": {
     "iopub.execute_input": "2023-09-09T12:13:05.206017Z",
     "iopub.status.busy": "2023-09-09T12:13:05.205515Z",
     "iopub.status.idle": "2023-09-09T12:13:05.238637Z",
     "shell.execute_reply": "2023-09-09T12:13:05.237412Z"
    },
    "papermill": {
     "duration": 0.060514,
     "end_time": "2023-09-09T12:13:05.241645",
     "exception": false,
     "start_time": "2023-09-09T12:13:05.181131",
     "status": "completed"
    },
    "tags": []
   },
   "outputs": [
    {
     "data": {
      "text/html": [
       "<div>\n",
       "<style scoped>\n",
       "    .dataframe tbody tr th:only-of-type {\n",
       "        vertical-align: middle;\n",
       "    }\n",
       "\n",
       "    .dataframe tbody tr th {\n",
       "        vertical-align: top;\n",
       "    }\n",
       "\n",
       "    .dataframe thead th {\n",
       "        text-align: right;\n",
       "    }\n",
       "</style>\n",
       "<table border=\"1\" class=\"dataframe\">\n",
       "  <thead>\n",
       "    <tr style=\"text-align: right;\">\n",
       "      <th></th>\n",
       "      <th>Year</th>\n",
       "      <th>Selling_Price</th>\n",
       "      <th>Present_Price</th>\n",
       "      <th>Kms_Driven</th>\n",
       "      <th>Owner</th>\n",
       "    </tr>\n",
       "  </thead>\n",
       "  <tbody>\n",
       "    <tr>\n",
       "      <th>count</th>\n",
       "      <td>301.000000</td>\n",
       "      <td>301.000000</td>\n",
       "      <td>301.000000</td>\n",
       "      <td>301.000000</td>\n",
       "      <td>301.000000</td>\n",
       "    </tr>\n",
       "    <tr>\n",
       "      <th>mean</th>\n",
       "      <td>2013.627907</td>\n",
       "      <td>4.661296</td>\n",
       "      <td>7.628472</td>\n",
       "      <td>36947.205980</td>\n",
       "      <td>0.043189</td>\n",
       "    </tr>\n",
       "    <tr>\n",
       "      <th>std</th>\n",
       "      <td>2.891554</td>\n",
       "      <td>5.082812</td>\n",
       "      <td>8.644115</td>\n",
       "      <td>38886.883882</td>\n",
       "      <td>0.247915</td>\n",
       "    </tr>\n",
       "    <tr>\n",
       "      <th>min</th>\n",
       "      <td>2003.000000</td>\n",
       "      <td>0.100000</td>\n",
       "      <td>0.320000</td>\n",
       "      <td>500.000000</td>\n",
       "      <td>0.000000</td>\n",
       "    </tr>\n",
       "    <tr>\n",
       "      <th>25%</th>\n",
       "      <td>2012.000000</td>\n",
       "      <td>0.900000</td>\n",
       "      <td>1.200000</td>\n",
       "      <td>15000.000000</td>\n",
       "      <td>0.000000</td>\n",
       "    </tr>\n",
       "    <tr>\n",
       "      <th>50%</th>\n",
       "      <td>2014.000000</td>\n",
       "      <td>3.600000</td>\n",
       "      <td>6.400000</td>\n",
       "      <td>32000.000000</td>\n",
       "      <td>0.000000</td>\n",
       "    </tr>\n",
       "    <tr>\n",
       "      <th>75%</th>\n",
       "      <td>2016.000000</td>\n",
       "      <td>6.000000</td>\n",
       "      <td>9.900000</td>\n",
       "      <td>48767.000000</td>\n",
       "      <td>0.000000</td>\n",
       "    </tr>\n",
       "    <tr>\n",
       "      <th>max</th>\n",
       "      <td>2018.000000</td>\n",
       "      <td>35.000000</td>\n",
       "      <td>92.600000</td>\n",
       "      <td>500000.000000</td>\n",
       "      <td>3.000000</td>\n",
       "    </tr>\n",
       "  </tbody>\n",
       "</table>\n",
       "</div>"
      ],
      "text/plain": [
       "              Year  Selling_Price  Present_Price     Kms_Driven       Owner\n",
       "count   301.000000     301.000000     301.000000     301.000000  301.000000\n",
       "mean   2013.627907       4.661296       7.628472   36947.205980    0.043189\n",
       "std       2.891554       5.082812       8.644115   38886.883882    0.247915\n",
       "min    2003.000000       0.100000       0.320000     500.000000    0.000000\n",
       "25%    2012.000000       0.900000       1.200000   15000.000000    0.000000\n",
       "50%    2014.000000       3.600000       6.400000   32000.000000    0.000000\n",
       "75%    2016.000000       6.000000       9.900000   48767.000000    0.000000\n",
       "max    2018.000000      35.000000      92.600000  500000.000000    3.000000"
      ]
     },
     "execution_count": 12,
     "metadata": {},
     "output_type": "execute_result"
    }
   ],
   "source": [
    "data.describe()"
   ]
  },
  {
   "cell_type": "code",
   "execution_count": 13,
   "id": "4ab3f69c",
   "metadata": {
    "execution": {
     "iopub.execute_input": "2023-09-09T12:13:05.292127Z",
     "iopub.status.busy": "2023-09-09T12:13:05.291003Z",
     "iopub.status.idle": "2023-09-09T12:13:05.299233Z",
     "shell.execute_reply": "2023-09-09T12:13:05.298004Z"
    },
    "papermill": {
     "duration": 0.036583,
     "end_time": "2023-09-09T12:13:05.302026",
     "exception": false,
     "start_time": "2023-09-09T12:13:05.265443",
     "status": "completed"
    },
    "tags": []
   },
   "outputs": [
    {
     "data": {
      "text/plain": [
       "Index(['Car_Name', 'Year', 'Selling_Price', 'Present_Price', 'Kms_Driven',\n",
       "       'Fuel_Type', 'Seller_Type', 'Transmission', 'Owner'],\n",
       "      dtype='object')"
      ]
     },
     "execution_count": 13,
     "metadata": {},
     "output_type": "execute_result"
    }
   ],
   "source": [
    "data.columns"
   ]
  },
  {
   "cell_type": "code",
   "execution_count": 14,
   "id": "9aaf261d",
   "metadata": {
    "execution": {
     "iopub.execute_input": "2023-09-09T12:13:05.352899Z",
     "iopub.status.busy": "2023-09-09T12:13:05.352463Z",
     "iopub.status.idle": "2023-09-09T12:13:05.361742Z",
     "shell.execute_reply": "2023-09-09T12:13:05.360376Z"
    },
    "papermill": {
     "duration": 0.036883,
     "end_time": "2023-09-09T12:13:05.364628",
     "exception": false,
     "start_time": "2023-09-09T12:13:05.327745",
     "status": "completed"
    },
    "tags": []
   },
   "outputs": [
    {
     "data": {
      "text/plain": [
       "0       ritz\n",
       "1        sx4\n",
       "2       ciaz\n",
       "3    wagon r\n",
       "4      swift\n",
       "Name: Car_Name, dtype: object"
      ]
     },
     "execution_count": 14,
     "metadata": {},
     "output_type": "execute_result"
    }
   ],
   "source": [
    "data.iloc[:,0].head()"
   ]
  },
  {
   "cell_type": "code",
   "execution_count": 15,
   "id": "85c240f6",
   "metadata": {
    "execution": {
     "iopub.execute_input": "2023-09-09T12:13:05.414515Z",
     "iopub.status.busy": "2023-09-09T12:13:05.413720Z",
     "iopub.status.idle": "2023-09-09T12:13:05.419974Z",
     "shell.execute_reply": "2023-09-09T12:13:05.418968Z"
    },
    "papermill": {
     "duration": 0.034142,
     "end_time": "2023-09-09T12:13:05.422678",
     "exception": false,
     "start_time": "2023-09-09T12:13:05.388536",
     "status": "completed"
    },
    "tags": []
   },
   "outputs": [],
   "source": [
    "# New data after droping car name from dataset\n",
    "data = data.drop(['Car_Name'], axis=1) "
   ]
  },
  {
   "cell_type": "code",
   "execution_count": 16,
   "id": "9663731a",
   "metadata": {
    "execution": {
     "iopub.execute_input": "2023-09-09T12:13:05.472956Z",
     "iopub.status.busy": "2023-09-09T12:13:05.472533Z",
     "iopub.status.idle": "2023-09-09T12:13:05.489810Z",
     "shell.execute_reply": "2023-09-09T12:13:05.488552Z"
    },
    "papermill": {
     "duration": 0.044571,
     "end_time": "2023-09-09T12:13:05.492438",
     "exception": false,
     "start_time": "2023-09-09T12:13:05.447867",
     "status": "completed"
    },
    "tags": []
   },
   "outputs": [
    {
     "data": {
      "text/html": [
       "<div>\n",
       "<style scoped>\n",
       "    .dataframe tbody tr th:only-of-type {\n",
       "        vertical-align: middle;\n",
       "    }\n",
       "\n",
       "    .dataframe tbody tr th {\n",
       "        vertical-align: top;\n",
       "    }\n",
       "\n",
       "    .dataframe thead th {\n",
       "        text-align: right;\n",
       "    }\n",
       "</style>\n",
       "<table border=\"1\" class=\"dataframe\">\n",
       "  <thead>\n",
       "    <tr style=\"text-align: right;\">\n",
       "      <th></th>\n",
       "      <th>Year</th>\n",
       "      <th>Selling_Price</th>\n",
       "      <th>Present_Price</th>\n",
       "      <th>Kms_Driven</th>\n",
       "      <th>Fuel_Type</th>\n",
       "      <th>Seller_Type</th>\n",
       "      <th>Transmission</th>\n",
       "      <th>Owner</th>\n",
       "    </tr>\n",
       "  </thead>\n",
       "  <tbody>\n",
       "    <tr>\n",
       "      <th>0</th>\n",
       "      <td>2014</td>\n",
       "      <td>3.35</td>\n",
       "      <td>5.59</td>\n",
       "      <td>27000</td>\n",
       "      <td>Petrol</td>\n",
       "      <td>Dealer</td>\n",
       "      <td>Manual</td>\n",
       "      <td>0</td>\n",
       "    </tr>\n",
       "    <tr>\n",
       "      <th>1</th>\n",
       "      <td>2013</td>\n",
       "      <td>4.75</td>\n",
       "      <td>9.54</td>\n",
       "      <td>43000</td>\n",
       "      <td>Diesel</td>\n",
       "      <td>Dealer</td>\n",
       "      <td>Manual</td>\n",
       "      <td>0</td>\n",
       "    </tr>\n",
       "    <tr>\n",
       "      <th>2</th>\n",
       "      <td>2017</td>\n",
       "      <td>7.25</td>\n",
       "      <td>9.85</td>\n",
       "      <td>6900</td>\n",
       "      <td>Petrol</td>\n",
       "      <td>Dealer</td>\n",
       "      <td>Manual</td>\n",
       "      <td>0</td>\n",
       "    </tr>\n",
       "    <tr>\n",
       "      <th>3</th>\n",
       "      <td>2011</td>\n",
       "      <td>2.85</td>\n",
       "      <td>4.15</td>\n",
       "      <td>5200</td>\n",
       "      <td>Petrol</td>\n",
       "      <td>Dealer</td>\n",
       "      <td>Manual</td>\n",
       "      <td>0</td>\n",
       "    </tr>\n",
       "    <tr>\n",
       "      <th>4</th>\n",
       "      <td>2014</td>\n",
       "      <td>4.60</td>\n",
       "      <td>6.87</td>\n",
       "      <td>42450</td>\n",
       "      <td>Diesel</td>\n",
       "      <td>Dealer</td>\n",
       "      <td>Manual</td>\n",
       "      <td>0</td>\n",
       "    </tr>\n",
       "  </tbody>\n",
       "</table>\n",
       "</div>"
      ],
      "text/plain": [
       "   Year  Selling_Price  Present_Price  Kms_Driven Fuel_Type Seller_Type  \\\n",
       "0  2014           3.35           5.59       27000    Petrol      Dealer   \n",
       "1  2013           4.75           9.54       43000    Diesel      Dealer   \n",
       "2  2017           7.25           9.85        6900    Petrol      Dealer   \n",
       "3  2011           2.85           4.15        5200    Petrol      Dealer   \n",
       "4  2014           4.60           6.87       42450    Diesel      Dealer   \n",
       "\n",
       "  Transmission  Owner  \n",
       "0       Manual      0  \n",
       "1       Manual      0  \n",
       "2       Manual      0  \n",
       "3       Manual      0  \n",
       "4       Manual      0  "
      ]
     },
     "execution_count": 16,
     "metadata": {},
     "output_type": "execute_result"
    }
   ],
   "source": [
    "data.head()"
   ]
  },
  {
   "cell_type": "code",
   "execution_count": 17,
   "id": "5ea19281",
   "metadata": {
    "execution": {
     "iopub.execute_input": "2023-09-09T12:13:05.542279Z",
     "iopub.status.busy": "2023-09-09T12:13:05.541842Z",
     "iopub.status.idle": "2023-09-09T12:13:05.550882Z",
     "shell.execute_reply": "2023-09-09T12:13:05.549505Z"
    },
    "papermill": {
     "duration": 0.037197,
     "end_time": "2023-09-09T12:13:05.553514",
     "exception": false,
     "start_time": "2023-09-09T12:13:05.516317",
     "status": "completed"
    },
    "tags": []
   },
   "outputs": [
    {
     "data": {
      "text/plain": [
       "array([2014, 2013, 2017, 2011, 2018, 2015, 2016, 2009, 2010, 2012, 2003,\n",
       "       2008, 2006, 2005, 2004, 2007])"
      ]
     },
     "execution_count": 17,
     "metadata": {},
     "output_type": "execute_result"
    }
   ],
   "source": [
    "data['Year'].unique()"
   ]
  },
  {
   "cell_type": "code",
   "execution_count": 18,
   "id": "54578975",
   "metadata": {
    "execution": {
     "iopub.execute_input": "2023-09-09T12:13:05.603358Z",
     "iopub.status.busy": "2023-09-09T12:13:05.602935Z",
     "iopub.status.idle": "2023-09-09T12:13:05.608728Z",
     "shell.execute_reply": "2023-09-09T12:13:05.607679Z"
    },
    "papermill": {
     "duration": 0.033854,
     "end_time": "2023-09-09T12:13:05.611203",
     "exception": false,
     "start_time": "2023-09-09T12:13:05.577349",
     "status": "completed"
    },
    "tags": []
   },
   "outputs": [],
   "source": [
    "sns.set_style('darkgrid')"
   ]
  },
  {
   "cell_type": "code",
   "execution_count": 19,
   "id": "a16fddeb",
   "metadata": {
    "execution": {
     "iopub.execute_input": "2023-09-09T12:13:05.661731Z",
     "iopub.status.busy": "2023-09-09T12:13:05.660404Z",
     "iopub.status.idle": "2023-09-09T12:13:06.096823Z",
     "shell.execute_reply": "2023-09-09T12:13:06.095884Z"
    },
    "papermill": {
     "duration": 0.463883,
     "end_time": "2023-09-09T12:13:06.099118",
     "exception": false,
     "start_time": "2023-09-09T12:13:05.635235",
     "status": "completed"
    },
    "tags": []
   },
   "outputs": [
    {
     "data": {
      "text/plain": [
       "<AxesSubplot:xlabel='Year', ylabel='count'>"
      ]
     },
     "execution_count": 19,
     "metadata": {},
     "output_type": "execute_result"
    },
    {
     "data": {
      "image/png": "[encoded data removed]",
      "text/plain": [
       "<Figure size 1080x864 with 1 Axes>"
      ]
     },
     "metadata": {},
     "output_type": "display_data"
    }
   ],
   "source": [
    "plt.figure(figsize=(15,12))\n",
    "\n",
    "sns.countplot(data=data, x='Year')"
   ]
  },
  {
   "cell_type": "code",
   "execution_count": 20,
   "id": "997a2d00",
   "metadata": {
    "execution": {
     "iopub.execute_input": "2023-09-09T12:13:06.150578Z",
     "iopub.status.busy": "2023-09-09T12:13:06.149450Z",
     "iopub.status.idle": "2023-09-09T12:13:06.740976Z",
     "shell.execute_reply": "2023-09-09T12:13:06.739949Z"
    },
    "papermill": {
     "duration": 0.620042,
     "end_time": "2023-09-09T12:13:06.743768",
     "exception": false,
     "start_time": "2023-09-09T12:13:06.123726",
     "status": "completed"
    },
    "tags": []
   },
   "outputs": [
    {
     "data": {
      "text/plain": [
       "<AxesSubplot:xlabel='Year', ylabel='count'>"
      ]
     },
     "execution_count": 20,
     "metadata": {},
     "output_type": "execute_result"
    },
    {
     "data": {
      "image/png": "[encoded data removed]",
      "text/plain": [
       "<Figure size 1080x864 with 1 Axes>"
      ]
     },
     "metadata": {},
     "output_type": "display_data"
    }
   ],
   "source": [
    "plt.figure(figsize=(15,12))\n",
    "\n",
    "sns.countplot(data=data, x='Year',hue='Seller_Type', )"
   ]
  },
  {
   "cell_type": "code",
   "execution_count": 21,
   "id": "1d5d59d1",
   "metadata": {
    "execution": {
     "iopub.execute_input": "2023-09-09T12:13:06.798977Z",
     "iopub.status.busy": "2023-09-09T12:13:06.798302Z",
     "iopub.status.idle": "2023-09-09T12:13:07.275836Z",
     "shell.execute_reply": "2023-09-09T12:13:07.274593Z"
    },
    "papermill": {
     "duration": 0.508478,
     "end_time": "2023-09-09T12:13:07.278827",
     "exception": false,
     "start_time": "2023-09-09T12:13:06.770349",
     "status": "completed"
    },
    "tags": []
   },
   "outputs": [
    {
     "data": {
      "text/plain": [
       "<AxesSubplot:xlabel='Year', ylabel='count'>"
      ]
     },
     "execution_count": 21,
     "metadata": {},
     "output_type": "execute_result"
    },
    {
     "data": {
      "image/png": "[encoded data removed]",
      "text/plain": [
       "<Figure size 1080x864 with 1 Axes>"
      ]
     },
     "metadata": {},
     "output_type": "display_data"
    }
   ],
   "source": [
    "plt.figure(figsize=(15,12))\n",
    "sns.countplot(data=data, x='Year',hue='Transmission', )"
   ]
  },
  {
   "cell_type": "code",
   "execution_count": 22,
   "id": "0b7ec639",
   "metadata": {
    "execution": {
     "iopub.execute_input": "2023-09-09T12:13:07.333616Z",
     "iopub.status.busy": "2023-09-09T12:13:07.333042Z",
     "iopub.status.idle": "2023-09-09T12:13:07.338757Z",
     "shell.execute_reply": "2023-09-09T12:13:07.337780Z"
    },
    "papermill": {
     "duration": 0.036679,
     "end_time": "2023-09-09T12:13:07.341215",
     "exception": false,
     "start_time": "2023-09-09T12:13:07.304536",
     "status": "completed"
    },
    "tags": []
   },
   "outputs": [],
   "source": [
    "data['Current_Year']=2023"
   ]
  },
  {
   "cell_type": "code",
   "execution_count": 23,
   "id": "3a14c81c",
   "metadata": {
    "execution": {
     "iopub.execute_input": "2023-09-09T12:13:07.396466Z",
     "iopub.status.busy": "2023-09-09T12:13:07.395638Z",
     "iopub.status.idle": "2023-09-09T12:13:07.412458Z",
     "shell.execute_reply": "2023-09-09T12:13:07.411253Z"
    },
    "papermill": {
     "duration": 0.047024,
     "end_time": "2023-09-09T12:13:07.415154",
     "exception": false,
     "start_time": "2023-09-09T12:13:07.368130",
     "status": "completed"
    },
    "tags": []
   },
   "outputs": [
    {
     "data": {
      "text/html": [
       "<div>\n",
       "<style scoped>\n",
       "    .dataframe tbody tr th:only-of-type {\n",
       "        vertical-align: middle;\n",
       "    }\n",
       "\n",
       "    .dataframe tbody tr th {\n",
       "        vertical-align: top;\n",
       "    }\n",
       "\n",
       "    .dataframe thead th {\n",
       "        text-align: right;\n",
       "    }\n",
       "</style>\n",
       "<table border=\"1\" class=\"dataframe\">\n",
       "  <thead>\n",
       "    <tr style=\"text-align: right;\">\n",
       "      <th></th>\n",
       "      <th>Year</th>\n",
       "      <th>Selling_Price</th>\n",
       "      <th>Present_Price</th>\n",
       "      <th>Kms_Driven</th>\n",
       "      <th>Fuel_Type</th>\n",
       "      <th>Seller_Type</th>\n",
       "      <th>Transmission</th>\n",
       "      <th>Owner</th>\n",
       "      <th>Current_Year</th>\n",
       "    </tr>\n",
       "  </thead>\n",
       "  <tbody>\n",
       "    <tr>\n",
       "      <th>0</th>\n",
       "      <td>2014</td>\n",
       "      <td>3.35</td>\n",
       "      <td>5.59</td>\n",
       "      <td>27000</td>\n",
       "      <td>Petrol</td>\n",
       "      <td>Dealer</td>\n",
       "      <td>Manual</td>\n",
       "      <td>0</td>\n",
       "      <td>2023</td>\n",
       "    </tr>\n",
       "    <tr>\n",
       "      <th>1</th>\n",
       "      <td>2013</td>\n",
       "      <td>4.75</td>\n",
       "      <td>9.54</td>\n",
       "      <td>43000</td>\n",
       "      <td>Diesel</td>\n",
       "      <td>Dealer</td>\n",
       "      <td>Manual</td>\n",
       "      <td>0</td>\n",
       "      <td>2023</td>\n",
       "    </tr>\n",
       "    <tr>\n",
       "      <th>2</th>\n",
       "      <td>2017</td>\n",
       "      <td>7.25</td>\n",
       "      <td>9.85</td>\n",
       "      <td>6900</td>\n",
       "      <td>Petrol</td>\n",
       "      <td>Dealer</td>\n",
       "      <td>Manual</td>\n",
       "      <td>0</td>\n",
       "      <td>2023</td>\n",
       "    </tr>\n",
       "    <tr>\n",
       "      <th>3</th>\n",
       "      <td>2011</td>\n",
       "      <td>2.85</td>\n",
       "      <td>4.15</td>\n",
       "      <td>5200</td>\n",
       "      <td>Petrol</td>\n",
       "      <td>Dealer</td>\n",
       "      <td>Manual</td>\n",
       "      <td>0</td>\n",
       "      <td>2023</td>\n",
       "    </tr>\n",
       "    <tr>\n",
       "      <th>4</th>\n",
       "      <td>2014</td>\n",
       "      <td>4.60</td>\n",
       "      <td>6.87</td>\n",
       "      <td>42450</td>\n",
       "      <td>Diesel</td>\n",
       "      <td>Dealer</td>\n",
       "      <td>Manual</td>\n",
       "      <td>0</td>\n",
       "      <td>2023</td>\n",
       "    </tr>\n",
       "  </tbody>\n",
       "</table>\n",
       "</div>"
      ],
      "text/plain": [
       "   Year  Selling_Price  Present_Price  Kms_Driven Fuel_Type Seller_Type  \\\n",
       "0  2014           3.35           5.59       27000    Petrol      Dealer   \n",
       "1  2013           4.75           9.54       43000    Diesel      Dealer   \n",
       "2  2017           7.25           9.85        6900    Petrol      Dealer   \n",
       "3  2011           2.85           4.15        5200    Petrol      Dealer   \n",
       "4  2014           4.60           6.87       42450    Diesel      Dealer   \n",
       "\n",
       "  Transmission  Owner  Current_Year  \n",
       "0       Manual      0          2023  \n",
       "1       Manual      0          2023  \n",
       "2       Manual      0          2023  \n",
       "3       Manual      0          2023  \n",
       "4       Manual      0          2023  "
      ]
     },
     "execution_count": 23,
     "metadata": {},
     "output_type": "execute_result"
    }
   ],
   "source": [
    "data.head()"
   ]
  },
  {
   "cell_type": "code",
   "execution_count": 24,
   "id": "b1d902fd",
   "metadata": {
    "execution": {
     "iopub.execute_input": "2023-09-09T12:13:07.468862Z",
     "iopub.status.busy": "2023-09-09T12:13:07.468385Z",
     "iopub.status.idle": "2023-09-09T12:13:07.475277Z",
     "shell.execute_reply": "2023-09-09T12:13:07.473864Z"
    },
    "papermill": {
     "duration": 0.03704,
     "end_time": "2023-09-09T12:13:07.477901",
     "exception": false,
     "start_time": "2023-09-09T12:13:07.440861",
     "status": "completed"
    },
    "tags": []
   },
   "outputs": [],
   "source": [
    "data['Number of Years']=data['Current_Year']-data['Year']"
   ]
  },
  {
   "cell_type": "code",
   "execution_count": 25,
   "id": "171a8531",
   "metadata": {
    "execution": {
     "iopub.execute_input": "2023-09-09T12:13:07.532553Z",
     "iopub.status.busy": "2023-09-09T12:13:07.532142Z",
     "iopub.status.idle": "2023-09-09T12:13:07.549624Z",
     "shell.execute_reply": "2023-09-09T12:13:07.548321Z"
    },
    "papermill": {
     "duration": 0.047956,
     "end_time": "2023-09-09T12:13:07.552532",
     "exception": false,
     "start_time": "2023-09-09T12:13:07.504576",
     "status": "completed"
    },
    "tags": []
   },
   "outputs": [
    {
     "data": {
      "text/html": [
       "<div>\n",
       "<style scoped>\n",
       "    .dataframe tbody tr th:only-of-type {\n",
       "        vertical-align: middle;\n",
       "    }\n",
       "\n",
       "    .dataframe tbody tr th {\n",
       "        vertical-align: top;\n",
       "    }\n",
       "\n",
       "    .dataframe thead th {\n",
       "        text-align: right;\n",
       "    }\n",
       "</style>\n",
       "<table border=\"1\" class=\"dataframe\">\n",
       "  <thead>\n",
       "    <tr style=\"text-align: right;\">\n",
       "      <th></th>\n",
       "      <th>Year</th>\n",
       "      <th>Selling_Price</th>\n",
       "      <th>Present_Price</th>\n",
       "      <th>Kms_Driven</th>\n",
       "      <th>Fuel_Type</th>\n",
       "      <th>Seller_Type</th>\n",
       "      <th>Transmission</th>\n",
       "      <th>Owner</th>\n",
       "      <th>Current_Year</th>\n",
       "      <th>Number of Years</th>\n",
       "    </tr>\n",
       "  </thead>\n",
       "  <tbody>\n",
       "    <tr>\n",
       "      <th>0</th>\n",
       "      <td>2014</td>\n",
       "      <td>3.35</td>\n",
       "      <td>5.59</td>\n",
       "      <td>27000</td>\n",
       "      <td>Petrol</td>\n",
       "      <td>Dealer</td>\n",
       "      <td>Manual</td>\n",
       "      <td>0</td>\n",
       "      <td>2023</td>\n",
       "      <td>9</td>\n",
       "    </tr>\n",
       "    <tr>\n",
       "      <th>1</th>\n",
       "      <td>2013</td>\n",
       "      <td>4.75</td>\n",
       "      <td>9.54</td>\n",
       "      <td>43000</td>\n",
       "      <td>Diesel</td>\n",
       "      <td>Dealer</td>\n",
       "      <td>Manual</td>\n",
       "      <td>0</td>\n",
       "      <td>2023</td>\n",
       "      <td>10</td>\n",
       "    </tr>\n",
       "    <tr>\n",
       "      <th>2</th>\n",
       "      <td>2017</td>\n",
       "      <td>7.25</td>\n",
       "      <td>9.85</td>\n",
       "      <td>6900</td>\n",
       "      <td>Petrol</td>\n",
       "      <td>Dealer</td>\n",
       "      <td>Manual</td>\n",
       "      <td>0</td>\n",
       "      <td>2023</td>\n",
       "      <td>6</td>\n",
       "    </tr>\n",
       "    <tr>\n",
       "      <th>3</th>\n",
       "      <td>2011</td>\n",
       "      <td>2.85</td>\n",
       "      <td>4.15</td>\n",
       "      <td>5200</td>\n",
       "      <td>Petrol</td>\n",
       "      <td>Dealer</td>\n",
       "      <td>Manual</td>\n",
       "      <td>0</td>\n",
       "      <td>2023</td>\n",
       "      <td>12</td>\n",
       "    </tr>\n",
       "    <tr>\n",
       "      <th>4</th>\n",
       "      <td>2014</td>\n",
       "      <td>4.60</td>\n",
       "      <td>6.87</td>\n",
       "      <td>42450</td>\n",
       "      <td>Diesel</td>\n",
       "      <td>Dealer</td>\n",
       "      <td>Manual</td>\n",
       "      <td>0</td>\n",
       "      <td>2023</td>\n",
       "      <td>9</td>\n",
       "    </tr>\n",
       "  </tbody>\n",
       "</table>\n",
       "</div>"
      ],
      "text/plain": [
       "   Year  Selling_Price  Present_Price  Kms_Driven Fuel_Type Seller_Type  \\\n",
       "0  2014           3.35           5.59       27000    Petrol      Dealer   \n",
       "1  2013           4.75           9.54       43000    Diesel      Dealer   \n",
       "2  2017           7.25           9.85        6900    Petrol      Dealer   \n",
       "3  2011           2.85           4.15        5200    Petrol      Dealer   \n",
       "4  2014           4.60           6.87       42450    Diesel      Dealer   \n",
       "\n",
       "  Transmission  Owner  Current_Year  Number of Years  \n",
       "0       Manual      0          2023                9  \n",
       "1       Manual      0          2023               10  \n",
       "2       Manual      0          2023                6  \n",
       "3       Manual      0          2023               12  \n",
       "4       Manual      0          2023                9  "
      ]
     },
     "execution_count": 25,
     "metadata": {},
     "output_type": "execute_result"
    }
   ],
   "source": [
    "data.head()"
   ]
  },
  {
   "cell_type": "code",
   "execution_count": 26,
   "id": "ee21b663",
   "metadata": {
    "execution": {
     "iopub.execute_input": "2023-09-09T12:13:07.607252Z",
     "iopub.status.busy": "2023-09-09T12:13:07.606819Z",
     "iopub.status.idle": "2023-09-09T12:13:07.614622Z",
     "shell.execute_reply": "2023-09-09T12:13:07.613433Z"
    },
    "papermill": {
     "duration": 0.038523,
     "end_time": "2023-09-09T12:13:07.617342",
     "exception": false,
     "start_time": "2023-09-09T12:13:07.578819",
     "status": "completed"
    },
    "tags": []
   },
   "outputs": [],
   "source": [
    "# New  updated data after droping columns ['year' and 'current_year']\n",
    "data= data.drop(['Year', 'Current_Year'], axis=1)"
   ]
  },
  {
   "cell_type": "code",
   "execution_count": 27,
   "id": "b40061f2",
   "metadata": {
    "execution": {
     "iopub.execute_input": "2023-09-09T12:13:07.673146Z",
     "iopub.status.busy": "2023-09-09T12:13:07.672736Z",
     "iopub.status.idle": "2023-09-09T12:13:07.689898Z",
     "shell.execute_reply": "2023-09-09T12:13:07.688670Z"
    },
    "papermill": {
     "duration": 0.047826,
     "end_time": "2023-09-09T12:13:07.692720",
     "exception": false,
     "start_time": "2023-09-09T12:13:07.644894",
     "status": "completed"
    },
    "tags": []
   },
   "outputs": [
    {
     "data": {
      "text/html": [
       "<div>\n",
       "<style scoped>\n",
       "    .dataframe tbody tr th:only-of-type {\n",
       "        vertical-align: middle;\n",
       "    }\n",
       "\n",
       "    .dataframe tbody tr th {\n",
       "        vertical-align: top;\n",
       "    }\n",
       "\n",
       "    .dataframe thead th {\n",
       "        text-align: right;\n",
       "    }\n",
       "</style>\n",
       "<table border=\"1\" class=\"dataframe\">\n",
       "  <thead>\n",
       "    <tr style=\"text-align: right;\">\n",
       "      <th></th>\n",
       "      <th>Selling_Price</th>\n",
       "      <th>Present_Price</th>\n",
       "      <th>Kms_Driven</th>\n",
       "      <th>Fuel_Type</th>\n",
       "      <th>Seller_Type</th>\n",
       "      <th>Transmission</th>\n",
       "      <th>Owner</th>\n",
       "      <th>Number of Years</th>\n",
       "    </tr>\n",
       "  </thead>\n",
       "  <tbody>\n",
       "    <tr>\n",
       "      <th>0</th>\n",
       "      <td>3.35</td>\n",
       "      <td>5.59</td>\n",
       "      <td>27000</td>\n",
       "      <td>Petrol</td>\n",
       "      <td>Dealer</td>\n",
       "      <td>Manual</td>\n",
       "      <td>0</td>\n",
       "      <td>9</td>\n",
       "    </tr>\n",
       "    <tr>\n",
       "      <th>1</th>\n",
       "      <td>4.75</td>\n",
       "      <td>9.54</td>\n",
       "      <td>43000</td>\n",
       "      <td>Diesel</td>\n",
       "      <td>Dealer</td>\n",
       "      <td>Manual</td>\n",
       "      <td>0</td>\n",
       "      <td>10</td>\n",
       "    </tr>\n",
       "    <tr>\n",
       "      <th>2</th>\n",
       "      <td>7.25</td>\n",
       "      <td>9.85</td>\n",
       "      <td>6900</td>\n",
       "      <td>Petrol</td>\n",
       "      <td>Dealer</td>\n",
       "      <td>Manual</td>\n",
       "      <td>0</td>\n",
       "      <td>6</td>\n",
       "    </tr>\n",
       "    <tr>\n",
       "      <th>3</th>\n",
       "      <td>2.85</td>\n",
       "      <td>4.15</td>\n",
       "      <td>5200</td>\n",
       "      <td>Petrol</td>\n",
       "      <td>Dealer</td>\n",
       "      <td>Manual</td>\n",
       "      <td>0</td>\n",
       "      <td>12</td>\n",
       "    </tr>\n",
       "    <tr>\n",
       "      <th>4</th>\n",
       "      <td>4.60</td>\n",
       "      <td>6.87</td>\n",
       "      <td>42450</td>\n",
       "      <td>Diesel</td>\n",
       "      <td>Dealer</td>\n",
       "      <td>Manual</td>\n",
       "      <td>0</td>\n",
       "      <td>9</td>\n",
       "    </tr>\n",
       "  </tbody>\n",
       "</table>\n",
       "</div>"
      ],
      "text/plain": [
       "   Selling_Price  Present_Price  Kms_Driven Fuel_Type Seller_Type  \\\n",
       "0           3.35           5.59       27000    Petrol      Dealer   \n",
       "1           4.75           9.54       43000    Diesel      Dealer   \n",
       "2           7.25           9.85        6900    Petrol      Dealer   \n",
       "3           2.85           4.15        5200    Petrol      Dealer   \n",
       "4           4.60           6.87       42450    Diesel      Dealer   \n",
       "\n",
       "  Transmission  Owner  Number of Years  \n",
       "0       Manual      0                9  \n",
       "1       Manual      0               10  \n",
       "2       Manual      0                6  \n",
       "3       Manual      0               12  \n",
       "4       Manual      0                9  "
      ]
     },
     "execution_count": 27,
     "metadata": {},
     "output_type": "execute_result"
    }
   ],
   "source": [
    "data.head()"
   ]
  },
  {
   "cell_type": "code",
   "execution_count": 28,
   "id": "ca132a76",
   "metadata": {
    "execution": {
     "iopub.execute_input": "2023-09-09T12:13:07.749433Z",
     "iopub.status.busy": "2023-09-09T12:13:07.749017Z",
     "iopub.status.idle": "2023-09-09T12:13:07.765788Z",
     "shell.execute_reply": "2023-09-09T12:13:07.764483Z"
    },
    "papermill": {
     "duration": 0.04781,
     "end_time": "2023-09-09T12:13:07.768422",
     "exception": false,
     "start_time": "2023-09-09T12:13:07.720612",
     "status": "completed"
    },
    "tags": []
   },
   "outputs": [
    {
     "data": {
      "text/html": [
       "<div>\n",
       "<style scoped>\n",
       "    .dataframe tbody tr th:only-of-type {\n",
       "        vertical-align: middle;\n",
       "    }\n",
       "\n",
       "    .dataframe tbody tr th {\n",
       "        vertical-align: top;\n",
       "    }\n",
       "\n",
       "    .dataframe thead th {\n",
       "        text-align: right;\n",
       "    }\n",
       "</style>\n",
       "<table border=\"1\" class=\"dataframe\">\n",
       "  <thead>\n",
       "    <tr style=\"text-align: right;\">\n",
       "      <th></th>\n",
       "      <th>Selling_Price</th>\n",
       "      <th>Present_Price</th>\n",
       "      <th>Kms_Driven</th>\n",
       "      <th>Fuel_Type</th>\n",
       "      <th>Seller_Type</th>\n",
       "      <th>Transmission</th>\n",
       "      <th>Owner</th>\n",
       "      <th>Number of Years</th>\n",
       "    </tr>\n",
       "  </thead>\n",
       "  <tbody>\n",
       "    <tr>\n",
       "      <th>0</th>\n",
       "      <td>3.35</td>\n",
       "      <td>5.59</td>\n",
       "      <td>27000</td>\n",
       "      <td>Petrol</td>\n",
       "      <td>Dealer</td>\n",
       "      <td>Manual</td>\n",
       "      <td>0</td>\n",
       "      <td>9</td>\n",
       "    </tr>\n",
       "    <tr>\n",
       "      <th>1</th>\n",
       "      <td>4.75</td>\n",
       "      <td>9.54</td>\n",
       "      <td>43000</td>\n",
       "      <td>Diesel</td>\n",
       "      <td>Dealer</td>\n",
       "      <td>Manual</td>\n",
       "      <td>0</td>\n",
       "      <td>10</td>\n",
       "    </tr>\n",
       "    <tr>\n",
       "      <th>2</th>\n",
       "      <td>7.25</td>\n",
       "      <td>9.85</td>\n",
       "      <td>6900</td>\n",
       "      <td>Petrol</td>\n",
       "      <td>Dealer</td>\n",
       "      <td>Manual</td>\n",
       "      <td>0</td>\n",
       "      <td>6</td>\n",
       "    </tr>\n",
       "    <tr>\n",
       "      <th>3</th>\n",
       "      <td>2.85</td>\n",
       "      <td>4.15</td>\n",
       "      <td>5200</td>\n",
       "      <td>Petrol</td>\n",
       "      <td>Dealer</td>\n",
       "      <td>Manual</td>\n",
       "      <td>0</td>\n",
       "      <td>12</td>\n",
       "    </tr>\n",
       "    <tr>\n",
       "      <th>4</th>\n",
       "      <td>4.60</td>\n",
       "      <td>6.87</td>\n",
       "      <td>42450</td>\n",
       "      <td>Diesel</td>\n",
       "      <td>Dealer</td>\n",
       "      <td>Manual</td>\n",
       "      <td>0</td>\n",
       "      <td>9</td>\n",
       "    </tr>\n",
       "  </tbody>\n",
       "</table>\n",
       "</div>"
      ],
      "text/plain": [
       "   Selling_Price  Present_Price  Kms_Driven Fuel_Type Seller_Type  \\\n",
       "0           3.35           5.59       27000    Petrol      Dealer   \n",
       "1           4.75           9.54       43000    Diesel      Dealer   \n",
       "2           7.25           9.85        6900    Petrol      Dealer   \n",
       "3           2.85           4.15        5200    Petrol      Dealer   \n",
       "4           4.60           6.87       42450    Diesel      Dealer   \n",
       "\n",
       "  Transmission  Owner  Number of Years  \n",
       "0       Manual      0                9  \n",
       "1       Manual      0               10  \n",
       "2       Manual      0                6  \n",
       "3       Manual      0               12  \n",
       "4       Manual      0                9  "
      ]
     },
     "execution_count": 28,
     "metadata": {},
     "output_type": "execute_result"
    }
   ],
   "source": [
    "# after converting categorical data into numerical code\n",
    "data.head()"
   ]
  },
  {
   "cell_type": "markdown",
   "id": "eeaf3c21",
   "metadata": {
    "papermill": {
     "duration": 0.027373,
     "end_time": "2023-09-09T12:13:07.824271",
     "exception": false,
     "start_time": "2023-09-09T12:13:07.796898",
     "status": "completed"
    },
    "tags": []
   },
   "source": []
  },
  {
   "cell_type": "code",
   "execution_count": 29,
   "id": "7c496212",
   "metadata": {
    "execution": {
     "iopub.execute_input": "2023-09-09T12:13:07.880121Z",
     "iopub.status.busy": "2023-09-09T12:13:07.879700Z",
     "iopub.status.idle": "2023-09-09T12:13:07.896368Z",
     "shell.execute_reply": "2023-09-09T12:13:07.895079Z"
    },
    "papermill": {
     "duration": 0.047659,
     "end_time": "2023-09-09T12:13:07.899026",
     "exception": false,
     "start_time": "2023-09-09T12:13:07.851367",
     "status": "completed"
    },
    "tags": []
   },
   "outputs": [
    {
     "data": {
      "text/html": [
       "<div>\n",
       "<style scoped>\n",
       "    .dataframe tbody tr th:only-of-type {\n",
       "        vertical-align: middle;\n",
       "    }\n",
       "\n",
       "    .dataframe tbody tr th {\n",
       "        vertical-align: top;\n",
       "    }\n",
       "\n",
       "    .dataframe thead th {\n",
       "        text-align: right;\n",
       "    }\n",
       "</style>\n",
       "<table border=\"1\" class=\"dataframe\">\n",
       "  <thead>\n",
       "    <tr style=\"text-align: right;\">\n",
       "      <th></th>\n",
       "      <th>Selling_Price</th>\n",
       "      <th>Present_Price</th>\n",
       "      <th>Kms_Driven</th>\n",
       "      <th>Owner</th>\n",
       "      <th>Number of Years</th>\n",
       "    </tr>\n",
       "  </thead>\n",
       "  <tbody>\n",
       "    <tr>\n",
       "      <th>Selling_Price</th>\n",
       "      <td>1.000000</td>\n",
       "      <td>0.878983</td>\n",
       "      <td>0.029187</td>\n",
       "      <td>-0.088344</td>\n",
       "      <td>-0.236141</td>\n",
       "    </tr>\n",
       "    <tr>\n",
       "      <th>Present_Price</th>\n",
       "      <td>0.878983</td>\n",
       "      <td>1.000000</td>\n",
       "      <td>0.203647</td>\n",
       "      <td>0.008057</td>\n",
       "      <td>0.047584</td>\n",
       "    </tr>\n",
       "    <tr>\n",
       "      <th>Kms_Driven</th>\n",
       "      <td>0.029187</td>\n",
       "      <td>0.203647</td>\n",
       "      <td>1.000000</td>\n",
       "      <td>0.089216</td>\n",
       "      <td>0.524342</td>\n",
       "    </tr>\n",
       "    <tr>\n",
       "      <th>Owner</th>\n",
       "      <td>-0.088344</td>\n",
       "      <td>0.008057</td>\n",
       "      <td>0.089216</td>\n",
       "      <td>1.000000</td>\n",
       "      <td>0.182104</td>\n",
       "    </tr>\n",
       "    <tr>\n",
       "      <th>Number of Years</th>\n",
       "      <td>-0.236141</td>\n",
       "      <td>0.047584</td>\n",
       "      <td>0.524342</td>\n",
       "      <td>0.182104</td>\n",
       "      <td>1.000000</td>\n",
       "    </tr>\n",
       "  </tbody>\n",
       "</table>\n",
       "</div>"
      ],
      "text/plain": [
       "                 Selling_Price  Present_Price  Kms_Driven     Owner  \\\n",
       "Selling_Price         1.000000       0.878983    0.029187 -0.088344   \n",
       "Present_Price         0.878983       1.000000    0.203647  0.008057   \n",
       "Kms_Driven            0.029187       0.203647    1.000000  0.089216   \n",
       "Owner                -0.088344       0.008057    0.089216  1.000000   \n",
       "Number of Years      -0.236141       0.047584    0.524342  0.182104   \n",
       "\n",
       "                 Number of Years  \n",
       "Selling_Price          -0.236141  \n",
       "Present_Price           0.047584  \n",
       "Kms_Driven              0.524342  \n",
       "Owner                   0.182104  \n",
       "Number of Years         1.000000  "
      ]
     },
     "execution_count": 29,
     "metadata": {},
     "output_type": "execute_result"
    }
   ],
   "source": [
    "# co-relation in data\n",
    "data.corr()"
   ]
  },
  {
   "cell_type": "code",
   "execution_count": 30,
   "id": "a8f80207",
   "metadata": {
    "execution": {
     "iopub.execute_input": "2023-09-09T12:13:07.955822Z",
     "iopub.status.busy": "2023-09-09T12:13:07.954961Z",
     "iopub.status.idle": "2023-09-09T12:13:08.369105Z",
     "shell.execute_reply": "2023-09-09T12:13:08.367500Z"
    },
    "papermill": {
     "duration": 0.445633,
     "end_time": "2023-09-09T12:13:08.371913",
     "exception": false,
     "start_time": "2023-09-09T12:13:07.926280",
     "status": "completed"
    },
    "tags": []
   },
   "outputs": [
    {
     "data": {
      "text/plain": [
       "<AxesSubplot:>"
      ]
     },
     "execution_count": 30,
     "metadata": {},
     "output_type": "execute_result"
    },
    {
     "data": {
      "image/png": "[encoded data removed]",
      "text/plain": [
       "<Figure size 1080x720 with 2 Axes>"
      ]
     },
     "metadata": {},
     "output_type": "display_data"
    }
   ],
   "source": [
    "plt.figure(figsize=(15,10))\n",
    "sns.heatmap(data.corr(), annot=True, cmap='coolwarm')"
   ]
  },
  {
   "cell_type": "code",
   "execution_count": 31,
   "id": "f1d1c072",
   "metadata": {
    "execution": {
     "iopub.execute_input": "2023-09-09T12:13:08.431083Z",
     "iopub.status.busy": "2023-09-09T12:13:08.430630Z",
     "iopub.status.idle": "2023-09-09T12:13:08.448012Z",
     "shell.execute_reply": "2023-09-09T12:13:08.446732Z"
    },
    "papermill": {
     "duration": 0.049664,
     "end_time": "2023-09-09T12:13:08.450593",
     "exception": false,
     "start_time": "2023-09-09T12:13:08.400929",
     "status": "completed"
    },
    "tags": []
   },
   "outputs": [
    {
     "data": {
      "text/html": [
       "<div>\n",
       "<style scoped>\n",
       "    .dataframe tbody tr th:only-of-type {\n",
       "        vertical-align: middle;\n",
       "    }\n",
       "\n",
       "    .dataframe tbody tr th {\n",
       "        vertical-align: top;\n",
       "    }\n",
       "\n",
       "    .dataframe thead th {\n",
       "        text-align: right;\n",
       "    }\n",
       "</style>\n",
       "<table border=\"1\" class=\"dataframe\">\n",
       "  <thead>\n",
       "    <tr style=\"text-align: right;\">\n",
       "      <th></th>\n",
       "      <th>Selling_Price</th>\n",
       "      <th>Present_Price</th>\n",
       "      <th>Kms_Driven</th>\n",
       "      <th>Fuel_Type</th>\n",
       "      <th>Seller_Type</th>\n",
       "      <th>Transmission</th>\n",
       "      <th>Owner</th>\n",
       "      <th>Number of Years</th>\n",
       "    </tr>\n",
       "  </thead>\n",
       "  <tbody>\n",
       "    <tr>\n",
       "      <th>0</th>\n",
       "      <td>3.35</td>\n",
       "      <td>5.59</td>\n",
       "      <td>27000</td>\n",
       "      <td>Petrol</td>\n",
       "      <td>Dealer</td>\n",
       "      <td>Manual</td>\n",
       "      <td>0</td>\n",
       "      <td>9</td>\n",
       "    </tr>\n",
       "    <tr>\n",
       "      <th>1</th>\n",
       "      <td>4.75</td>\n",
       "      <td>9.54</td>\n",
       "      <td>43000</td>\n",
       "      <td>Diesel</td>\n",
       "      <td>Dealer</td>\n",
       "      <td>Manual</td>\n",
       "      <td>0</td>\n",
       "      <td>10</td>\n",
       "    </tr>\n",
       "    <tr>\n",
       "      <th>2</th>\n",
       "      <td>7.25</td>\n",
       "      <td>9.85</td>\n",
       "      <td>6900</td>\n",
       "      <td>Petrol</td>\n",
       "      <td>Dealer</td>\n",
       "      <td>Manual</td>\n",
       "      <td>0</td>\n",
       "      <td>6</td>\n",
       "    </tr>\n",
       "    <tr>\n",
       "      <th>3</th>\n",
       "      <td>2.85</td>\n",
       "      <td>4.15</td>\n",
       "      <td>5200</td>\n",
       "      <td>Petrol</td>\n",
       "      <td>Dealer</td>\n",
       "      <td>Manual</td>\n",
       "      <td>0</td>\n",
       "      <td>12</td>\n",
       "    </tr>\n",
       "    <tr>\n",
       "      <th>4</th>\n",
       "      <td>4.60</td>\n",
       "      <td>6.87</td>\n",
       "      <td>42450</td>\n",
       "      <td>Diesel</td>\n",
       "      <td>Dealer</td>\n",
       "      <td>Manual</td>\n",
       "      <td>0</td>\n",
       "      <td>9</td>\n",
       "    </tr>\n",
       "  </tbody>\n",
       "</table>\n",
       "</div>"
      ],
      "text/plain": [
       "   Selling_Price  Present_Price  Kms_Driven Fuel_Type Seller_Type  \\\n",
       "0           3.35           5.59       27000    Petrol      Dealer   \n",
       "1           4.75           9.54       43000    Diesel      Dealer   \n",
       "2           7.25           9.85        6900    Petrol      Dealer   \n",
       "3           2.85           4.15        5200    Petrol      Dealer   \n",
       "4           4.60           6.87       42450    Diesel      Dealer   \n",
       "\n",
       "  Transmission  Owner  Number of Years  \n",
       "0       Manual      0                9  \n",
       "1       Manual      0               10  \n",
       "2       Manual      0                6  \n",
       "3       Manual      0               12  \n",
       "4       Manual      0                9  "
      ]
     },
     "execution_count": 31,
     "metadata": {},
     "output_type": "execute_result"
    }
   ],
   "source": [
    "data.head()"
   ]
  },
  {
   "cell_type": "code",
   "execution_count": 32,
   "id": "11783b6f",
   "metadata": {
    "execution": {
     "iopub.execute_input": "2023-09-09T12:13:08.509899Z",
     "iopub.status.busy": "2023-09-09T12:13:08.509449Z",
     "iopub.status.idle": "2023-09-09T12:13:08.517210Z",
     "shell.execute_reply": "2023-09-09T12:13:08.515914Z"
    },
    "papermill": {
     "duration": 0.040394,
     "end_time": "2023-09-09T12:13:08.519812",
     "exception": false,
     "start_time": "2023-09-09T12:13:08.479418",
     "status": "completed"
    },
    "tags": []
   },
   "outputs": [],
   "source": [
    "# setting dependent and independent columns in data \n",
    "# \"Selling_Price\" drop and whole columns taking as input\n",
    "x = data.drop('Selling_Price', axis=1)\n",
    "data['Selling_Price']\n",
    "\n",
    "# only \"Sellin_Price\" column taking as output  column\n",
    "y = data['Selling_Price']"
   ]
  },
  {
   "cell_type": "code",
   "execution_count": 33,
   "id": "fae0bc03",
   "metadata": {
    "execution": {
     "iopub.execute_input": "2023-09-09T12:13:08.578925Z",
     "iopub.status.busy": "2023-09-09T12:13:08.578469Z",
     "iopub.status.idle": "2023-09-09T12:13:08.594717Z",
     "shell.execute_reply": "2023-09-09T12:13:08.593433Z"
    },
    "papermill": {
     "duration": 0.048974,
     "end_time": "2023-09-09T12:13:08.597331",
     "exception": false,
     "start_time": "2023-09-09T12:13:08.548357",
     "status": "completed"
    },
    "tags": []
   },
   "outputs": [
    {
     "data": {
      "text/html": [
       "<div>\n",
       "<style scoped>\n",
       "    .dataframe tbody tr th:only-of-type {\n",
       "        vertical-align: middle;\n",
       "    }\n",
       "\n",
       "    .dataframe tbody tr th {\n",
       "        vertical-align: top;\n",
       "    }\n",
       "\n",
       "    .dataframe thead th {\n",
       "        text-align: right;\n",
       "    }\n",
       "</style>\n",
       "<table border=\"1\" class=\"dataframe\">\n",
       "  <thead>\n",
       "    <tr style=\"text-align: right;\">\n",
       "      <th></th>\n",
       "      <th>Present_Price</th>\n",
       "      <th>Kms_Driven</th>\n",
       "      <th>Fuel_Type</th>\n",
       "      <th>Seller_Type</th>\n",
       "      <th>Transmission</th>\n",
       "      <th>Owner</th>\n",
       "      <th>Number of Years</th>\n",
       "    </tr>\n",
       "  </thead>\n",
       "  <tbody>\n",
       "    <tr>\n",
       "      <th>0</th>\n",
       "      <td>5.59</td>\n",
       "      <td>27000</td>\n",
       "      <td>Petrol</td>\n",
       "      <td>Dealer</td>\n",
       "      <td>Manual</td>\n",
       "      <td>0</td>\n",
       "      <td>9</td>\n",
       "    </tr>\n",
       "    <tr>\n",
       "      <th>1</th>\n",
       "      <td>9.54</td>\n",
       "      <td>43000</td>\n",
       "      <td>Diesel</td>\n",
       "      <td>Dealer</td>\n",
       "      <td>Manual</td>\n",
       "      <td>0</td>\n",
       "      <td>10</td>\n",
       "    </tr>\n",
       "    <tr>\n",
       "      <th>2</th>\n",
       "      <td>9.85</td>\n",
       "      <td>6900</td>\n",
       "      <td>Petrol</td>\n",
       "      <td>Dealer</td>\n",
       "      <td>Manual</td>\n",
       "      <td>0</td>\n",
       "      <td>6</td>\n",
       "    </tr>\n",
       "    <tr>\n",
       "      <th>3</th>\n",
       "      <td>4.15</td>\n",
       "      <td>5200</td>\n",
       "      <td>Petrol</td>\n",
       "      <td>Dealer</td>\n",
       "      <td>Manual</td>\n",
       "      <td>0</td>\n",
       "      <td>12</td>\n",
       "    </tr>\n",
       "    <tr>\n",
       "      <th>4</th>\n",
       "      <td>6.87</td>\n",
       "      <td>42450</td>\n",
       "      <td>Diesel</td>\n",
       "      <td>Dealer</td>\n",
       "      <td>Manual</td>\n",
       "      <td>0</td>\n",
       "      <td>9</td>\n",
       "    </tr>\n",
       "  </tbody>\n",
       "</table>\n",
       "</div>"
      ],
      "text/plain": [
       "   Present_Price  Kms_Driven Fuel_Type Seller_Type Transmission  Owner  \\\n",
       "0           5.59       27000    Petrol      Dealer       Manual      0   \n",
       "1           9.54       43000    Diesel      Dealer       Manual      0   \n",
       "2           9.85        6900    Petrol      Dealer       Manual      0   \n",
       "3           4.15        5200    Petrol      Dealer       Manual      0   \n",
       "4           6.87       42450    Diesel      Dealer       Manual      0   \n",
       "\n",
       "   Number of Years  \n",
       "0                9  \n",
       "1               10  \n",
       "2                6  \n",
       "3               12  \n",
       "4                9  "
      ]
     },
     "execution_count": 33,
     "metadata": {},
     "output_type": "execute_result"
    }
   ],
   "source": [
    "x.head()"
   ]
  },
  {
   "cell_type": "code",
   "execution_count": 34,
   "id": "c68c43c1",
   "metadata": {
    "execution": {
     "iopub.execute_input": "2023-09-09T12:13:08.658205Z",
     "iopub.status.busy": "2023-09-09T12:13:08.657277Z",
     "iopub.status.idle": "2023-09-09T12:13:08.666402Z",
     "shell.execute_reply": "2023-09-09T12:13:08.665139Z"
    },
    "papermill": {
     "duration": 0.041631,
     "end_time": "2023-09-09T12:13:08.669100",
     "exception": false,
     "start_time": "2023-09-09T12:13:08.627469",
     "status": "completed"
    },
    "tags": []
   },
   "outputs": [
    {
     "data": {
      "text/plain": [
       "0    3.35\n",
       "1    4.75\n",
       "2    7.25\n",
       "3    2.85\n",
       "4    4.60\n",
       "Name: Selling_Price, dtype: float64"
      ]
     },
     "execution_count": 34,
     "metadata": {},
     "output_type": "execute_result"
    }
   ],
   "source": [
    "y.head()"
   ]
  },
  {
   "cell_type": "code",
   "execution_count": 35,
   "id": "8b6a9cc4",
   "metadata": {
    "execution": {
     "iopub.execute_input": "2023-09-09T12:13:08.728373Z",
     "iopub.status.busy": "2023-09-09T12:13:08.727968Z",
     "iopub.status.idle": "2023-09-09T12:13:08.735594Z",
     "shell.execute_reply": "2023-09-09T12:13:08.734509Z"
    },
    "papermill": {
     "duration": 0.040253,
     "end_time": "2023-09-09T12:13:08.738171",
     "exception": false,
     "start_time": "2023-09-09T12:13:08.697918",
     "status": "completed"
    },
    "tags": []
   },
   "outputs": [],
   "source": [
    "# Train_test_split \n",
    "\n",
    "from sklearn.model_selection import train_test_split\n",
    "\n",
    "x_train,x_test,y_train,y_test = train_test_split(x,y,test_size=0.2)"
   ]
  },
  {
   "cell_type": "code",
   "execution_count": 36,
   "id": "5e2a3ee7",
   "metadata": {
    "execution": {
     "iopub.execute_input": "2023-09-09T12:13:08.797829Z",
     "iopub.status.busy": "2023-09-09T12:13:08.797386Z",
     "iopub.status.idle": "2023-09-09T12:13:08.813552Z",
     "shell.execute_reply": "2023-09-09T12:13:08.812291Z"
    },
    "papermill": {
     "duration": 0.049543,
     "end_time": "2023-09-09T12:13:08.816319",
     "exception": false,
     "start_time": "2023-09-09T12:13:08.766776",
     "status": "completed"
    },
    "tags": []
   },
   "outputs": [
    {
     "data": {
      "text/html": [
       "<div>\n",
       "<style scoped>\n",
       "    .dataframe tbody tr th:only-of-type {\n",
       "        vertical-align: middle;\n",
       "    }\n",
       "\n",
       "    .dataframe tbody tr th {\n",
       "        vertical-align: top;\n",
       "    }\n",
       "\n",
       "    .dataframe thead th {\n",
       "        text-align: right;\n",
       "    }\n",
       "</style>\n",
       "<table border=\"1\" class=\"dataframe\">\n",
       "  <thead>\n",
       "    <tr style=\"text-align: right;\">\n",
       "      <th></th>\n",
       "      <th>Present_Price</th>\n",
       "      <th>Kms_Driven</th>\n",
       "      <th>Fuel_Type</th>\n",
       "      <th>Seller_Type</th>\n",
       "      <th>Transmission</th>\n",
       "      <th>Owner</th>\n",
       "      <th>Number of Years</th>\n",
       "    </tr>\n",
       "  </thead>\n",
       "  <tbody>\n",
       "    <tr>\n",
       "      <th>144</th>\n",
       "      <td>0.99</td>\n",
       "      <td>25000</td>\n",
       "      <td>Petrol</td>\n",
       "      <td>Individual</td>\n",
       "      <td>Manual</td>\n",
       "      <td>0</td>\n",
       "      <td>9</td>\n",
       "    </tr>\n",
       "    <tr>\n",
       "      <th>158</th>\n",
       "      <td>0.54</td>\n",
       "      <td>8600</td>\n",
       "      <td>Petrol</td>\n",
       "      <td>Individual</td>\n",
       "      <td>Manual</td>\n",
       "      <td>0</td>\n",
       "      <td>6</td>\n",
       "    </tr>\n",
       "    <tr>\n",
       "      <th>177</th>\n",
       "      <td>0.57</td>\n",
       "      <td>24000</td>\n",
       "      <td>Petrol</td>\n",
       "      <td>Individual</td>\n",
       "      <td>Automatic</td>\n",
       "      <td>0</td>\n",
       "      <td>7</td>\n",
       "    </tr>\n",
       "    <tr>\n",
       "      <th>8</th>\n",
       "      <td>8.89</td>\n",
       "      <td>20273</td>\n",
       "      <td>Diesel</td>\n",
       "      <td>Dealer</td>\n",
       "      <td>Manual</td>\n",
       "      <td>0</td>\n",
       "      <td>7</td>\n",
       "    </tr>\n",
       "    <tr>\n",
       "      <th>50</th>\n",
       "      <td>30.61</td>\n",
       "      <td>104707</td>\n",
       "      <td>Diesel</td>\n",
       "      <td>Dealer</td>\n",
       "      <td>Automatic</td>\n",
       "      <td>0</td>\n",
       "      <td>11</td>\n",
       "    </tr>\n",
       "  </tbody>\n",
       "</table>\n",
       "</div>"
      ],
      "text/plain": [
       "     Present_Price  Kms_Driven Fuel_Type Seller_Type Transmission  Owner  \\\n",
       "144           0.99       25000    Petrol  Individual       Manual      0   \n",
       "158           0.54        8600    Petrol  Individual       Manual      0   \n",
       "177           0.57       24000    Petrol  Individual    Automatic      0   \n",
       "8             8.89       20273    Diesel      Dealer       Manual      0   \n",
       "50           30.61      104707    Diesel      Dealer    Automatic      0   \n",
       "\n",
       "     Number of Years  \n",
       "144                9  \n",
       "158                6  \n",
       "177                7  \n",
       "8                  7  \n",
       "50                11  "
      ]
     },
     "execution_count": 36,
     "metadata": {},
     "output_type": "execute_result"
    }
   ],
   "source": [
    "x_train.head()"
   ]
  },
  {
   "cell_type": "code",
   "execution_count": 37,
   "id": "ab392250",
   "metadata": {
    "execution": {
     "iopub.execute_input": "2023-09-09T12:13:08.878314Z",
     "iopub.status.busy": "2023-09-09T12:13:08.877867Z",
     "iopub.status.idle": "2023-09-09T12:13:08.887433Z",
     "shell.execute_reply": "2023-09-09T12:13:08.886217Z"
    },
    "papermill": {
     "duration": 0.043696,
     "end_time": "2023-09-09T12:13:08.890005",
     "exception": false,
     "start_time": "2023-09-09T12:13:08.846309",
     "status": "completed"
    },
    "tags": []
   },
   "outputs": [
    {
     "data": {
      "text/plain": [
       "144     0.60\n",
       "158     0.48\n",
       "177     0.35\n",
       "8       8.75\n",
       "50     14.90\n",
       "Name: Selling_Price, dtype: float64"
      ]
     },
     "execution_count": 37,
     "metadata": {},
     "output_type": "execute_result"
    }
   ],
   "source": [
    "y_train.head()"
   ]
  },
  {
   "cell_type": "code",
   "execution_count": 38,
   "id": "51557412",
   "metadata": {
    "execution": {
     "iopub.execute_input": "2023-09-09T12:13:08.950959Z",
     "iopub.status.busy": "2023-09-09T12:13:08.950230Z",
     "iopub.status.idle": "2023-09-09T12:13:08.969563Z",
     "shell.execute_reply": "2023-09-09T12:13:08.968353Z"
    },
    "papermill": {
     "duration": 0.052758,
     "end_time": "2023-09-09T12:13:08.972082",
     "exception": false,
     "start_time": "2023-09-09T12:13:08.919324",
     "status": "completed"
    },
    "tags": []
   },
   "outputs": [
    {
     "data": {
      "text/html": [
       "<div>\n",
       "<style scoped>\n",
       "    .dataframe tbody tr th:only-of-type {\n",
       "        vertical-align: middle;\n",
       "    }\n",
       "\n",
       "    .dataframe tbody tr th {\n",
       "        vertical-align: top;\n",
       "    }\n",
       "\n",
       "    .dataframe thead th {\n",
       "        text-align: right;\n",
       "    }\n",
       "</style>\n",
       "<table border=\"1\" class=\"dataframe\">\n",
       "  <thead>\n",
       "    <tr style=\"text-align: right;\">\n",
       "      <th></th>\n",
       "      <th>Fuel_Type</th>\n",
       "      <th>Seller_Type</th>\n",
       "      <th>Transmission</th>\n",
       "    </tr>\n",
       "  </thead>\n",
       "  <tbody>\n",
       "    <tr>\n",
       "      <th>count</th>\n",
       "      <td>240</td>\n",
       "      <td>240</td>\n",
       "      <td>240</td>\n",
       "    </tr>\n",
       "    <tr>\n",
       "      <th>unique</th>\n",
       "      <td>3</td>\n",
       "      <td>2</td>\n",
       "      <td>2</td>\n",
       "    </tr>\n",
       "    <tr>\n",
       "      <th>top</th>\n",
       "      <td>Petrol</td>\n",
       "      <td>Dealer</td>\n",
       "      <td>Manual</td>\n",
       "    </tr>\n",
       "    <tr>\n",
       "      <th>freq</th>\n",
       "      <td>190</td>\n",
       "      <td>160</td>\n",
       "      <td>209</td>\n",
       "    </tr>\n",
       "  </tbody>\n",
       "</table>\n",
       "</div>"
      ],
      "text/plain": [
       "       Fuel_Type Seller_Type Transmission\n",
       "count        240         240          240\n",
       "unique         3           2            2\n",
       "top       Petrol      Dealer       Manual\n",
       "freq         190         160          209"
      ]
     },
     "execution_count": 38,
     "metadata": {},
     "output_type": "execute_result"
    }
   ],
   "source": [
    "x_train.describe(include='O')"
   ]
  },
  {
   "cell_type": "code",
   "execution_count": 39,
   "id": "0cba6ba8",
   "metadata": {
    "execution": {
     "iopub.execute_input": "2023-09-09T12:13:09.032966Z",
     "iopub.status.busy": "2023-09-09T12:13:09.032525Z",
     "iopub.status.idle": "2023-09-09T12:13:09.047956Z",
     "shell.execute_reply": "2023-09-09T12:13:09.046597Z"
    },
    "papermill": {
     "duration": 0.049178,
     "end_time": "2023-09-09T12:13:09.050566",
     "exception": false,
     "start_time": "2023-09-09T12:13:09.001388",
     "status": "completed"
    },
    "tags": []
   },
   "outputs": [
    {
     "data": {
      "text/plain": [
       "Index(['Fuel_Type', 'Seller_Type', 'Transmission'], dtype='object')"
      ]
     },
     "execution_count": 39,
     "metadata": {},
     "output_type": "execute_result"
    }
   ],
   "source": [
    "onehot_cols = x_train.describe(include='O').columns\n",
    "onehot_cols"
   ]
  },
  {
   "cell_type": "markdown",
   "id": "e98412f7",
   "metadata": {
    "papermill": {
     "duration": 0.029492,
     "end_time": "2023-09-09T12:13:09.109783",
     "exception": false,
     "start_time": "2023-09-09T12:13:09.080291",
     "status": "completed"
    },
    "tags": []
   },
   "source": [
    "# One Hot Encoding for categorical columns"
   ]
  },
  {
   "cell_type": "code",
   "execution_count": 40,
   "id": "79636693",
   "metadata": {
    "execution": {
     "iopub.execute_input": "2023-09-09T12:13:09.172115Z",
     "iopub.status.busy": "2023-09-09T12:13:09.171634Z",
     "iopub.status.idle": "2023-09-09T12:13:09.198330Z",
     "shell.execute_reply": "2023-09-09T12:13:09.196994Z"
    },
    "papermill": {
     "duration": 0.061628,
     "end_time": "2023-09-09T12:13:09.200902",
     "exception": false,
     "start_time": "2023-09-09T12:13:09.139274",
     "status": "completed"
    },
    "tags": []
   },
   "outputs": [
    {
     "name": "stderr",
     "output_type": "stream",
     "text": [
      "/opt/conda/lib/python3.7/site-packages/sklearn/utils/deprecation.py:87: FutureWarning: Function get_feature_names is deprecated; get_feature_names is deprecated in 1.0 and will be removed in 1.2. Please use get_feature_names_out instead.\n",
      "  warnings.warn(msg, category=FutureWarning)\n"
     ]
    },
    {
     "data": {
      "text/html": [
       "<div>\n",
       "<style scoped>\n",
       "    .dataframe tbody tr th:only-of-type {\n",
       "        vertical-align: middle;\n",
       "    }\n",
       "\n",
       "    .dataframe tbody tr th {\n",
       "        vertical-align: top;\n",
       "    }\n",
       "\n",
       "    .dataframe thead th {\n",
       "        text-align: right;\n",
       "    }\n",
       "</style>\n",
       "<table border=\"1\" class=\"dataframe\">\n",
       "  <thead>\n",
       "    <tr style=\"text-align: right;\">\n",
       "      <th></th>\n",
       "      <th>Fuel_Type_Diesel</th>\n",
       "      <th>Fuel_Type_Petrol</th>\n",
       "      <th>Seller_Type_Individual</th>\n",
       "      <th>Transmission_Manual</th>\n",
       "    </tr>\n",
       "  </thead>\n",
       "  <tbody>\n",
       "    <tr>\n",
       "      <th>0</th>\n",
       "      <td>0.0</td>\n",
       "      <td>1.0</td>\n",
       "      <td>1.0</td>\n",
       "      <td>1.0</td>\n",
       "    </tr>\n",
       "    <tr>\n",
       "      <th>1</th>\n",
       "      <td>0.0</td>\n",
       "      <td>1.0</td>\n",
       "      <td>1.0</td>\n",
       "      <td>1.0</td>\n",
       "    </tr>\n",
       "    <tr>\n",
       "      <th>2</th>\n",
       "      <td>0.0</td>\n",
       "      <td>1.0</td>\n",
       "      <td>1.0</td>\n",
       "      <td>0.0</td>\n",
       "    </tr>\n",
       "    <tr>\n",
       "      <th>3</th>\n",
       "      <td>1.0</td>\n",
       "      <td>0.0</td>\n",
       "      <td>0.0</td>\n",
       "      <td>1.0</td>\n",
       "    </tr>\n",
       "    <tr>\n",
       "      <th>4</th>\n",
       "      <td>1.0</td>\n",
       "      <td>0.0</td>\n",
       "      <td>0.0</td>\n",
       "      <td>0.0</td>\n",
       "    </tr>\n",
       "  </tbody>\n",
       "</table>\n",
       "</div>"
      ],
      "text/plain": [
       "   Fuel_Type_Diesel  Fuel_Type_Petrol  Seller_Type_Individual  \\\n",
       "0               0.0               1.0                     1.0   \n",
       "1               0.0               1.0                     1.0   \n",
       "2               0.0               1.0                     1.0   \n",
       "3               1.0               0.0                     0.0   \n",
       "4               1.0               0.0                     0.0   \n",
       "\n",
       "   Transmission_Manual  \n",
       "0                  1.0  \n",
       "1                  1.0  \n",
       "2                  0.0  \n",
       "3                  1.0  \n",
       "4                  0.0  "
      ]
     },
     "execution_count": 40,
     "metadata": {},
     "output_type": "execute_result"
    }
   ],
   "source": [
    "ohe = OneHotEncoder(drop='first')\n",
    "x_train_ohe = ohe.fit_transform(x_train[onehot_cols]).toarray()\n",
    "x_test_ohe = ohe.transform(x_test[onehot_cols]).toarray()\n",
    "\n",
    "x_train_ohe_df = pd.DataFrame(x_train_ohe, columns=ohe.get_feature_names(onehot_cols))\n",
    "x_test_ohe_df = pd.DataFrame(x_test_ohe, columns=ohe.get_feature_names(onehot_cols))\n",
    "\n",
    "x_train_ohe_df.head()"
   ]
  },
  {
   "cell_type": "markdown",
   "id": "b8aa9d95",
   "metadata": {
    "papermill": {
     "duration": 0.030162,
     "end_time": "2023-09-09T12:13:09.260919",
     "exception": false,
     "start_time": "2023-09-09T12:13:09.230757",
     "status": "completed"
    },
    "tags": []
   },
   "source": [
    "# Standard scaling on numerical columns "
   ]
  },
  {
   "cell_type": "code",
   "execution_count": 41,
   "id": "edcf9072",
   "metadata": {
    "execution": {
     "iopub.execute_input": "2023-09-09T12:13:09.322734Z",
     "iopub.status.busy": "2023-09-09T12:13:09.322267Z",
     "iopub.status.idle": "2023-09-09T12:13:09.347075Z",
     "shell.execute_reply": "2023-09-09T12:13:09.346064Z"
    },
    "papermill": {
     "duration": 0.058706,
     "end_time": "2023-09-09T12:13:09.349545",
     "exception": false,
     "start_time": "2023-09-09T12:13:09.290839",
     "status": "completed"
    },
    "tags": []
   },
   "outputs": [
    {
     "data": {
      "text/plain": [
       "Index(['Present_Price', 'Kms_Driven', 'Owner', 'Number of Years'], dtype='object')"
      ]
     },
     "execution_count": 41,
     "metadata": {},
     "output_type": "execute_result"
    }
   ],
   "source": [
    "num_cols= x_train.describe().columns\n",
    "num_cols"
   ]
  },
  {
   "cell_type": "code",
   "execution_count": 42,
   "id": "2b396103",
   "metadata": {
    "execution": {
     "iopub.execute_input": "2023-09-09T12:13:09.413715Z",
     "iopub.status.busy": "2023-09-09T12:13:09.413238Z",
     "iopub.status.idle": "2023-09-09T12:13:09.440718Z",
     "shell.execute_reply": "2023-09-09T12:13:09.439499Z"
    },
    "papermill": {
     "duration": 0.062714,
     "end_time": "2023-09-09T12:13:09.443289",
     "exception": false,
     "start_time": "2023-09-09T12:13:09.380575",
     "status": "completed"
    },
    "tags": []
   },
   "outputs": [
    {
     "data": {
      "text/html": [
       "<div>\n",
       "<style scoped>\n",
       "    .dataframe tbody tr th:only-of-type {\n",
       "        vertical-align: middle;\n",
       "    }\n",
       "\n",
       "    .dataframe tbody tr th {\n",
       "        vertical-align: top;\n",
       "    }\n",
       "\n",
       "    .dataframe thead th {\n",
       "        text-align: right;\n",
       "    }\n",
       "</style>\n",
       "<table border=\"1\" class=\"dataframe\">\n",
       "  <thead>\n",
       "    <tr style=\"text-align: right;\">\n",
       "      <th></th>\n",
       "      <th>Present_Price</th>\n",
       "      <th>Kms_Driven</th>\n",
       "      <th>Owner</th>\n",
       "      <th>Number of Years</th>\n",
       "    </tr>\n",
       "  </thead>\n",
       "  <tbody>\n",
       "    <tr>\n",
       "      <th>0</th>\n",
       "      <td>-0.917874</td>\n",
       "      <td>-0.302730</td>\n",
       "      <td>-0.197386</td>\n",
       "      <td>-0.139488</td>\n",
       "    </tr>\n",
       "    <tr>\n",
       "      <th>1</th>\n",
       "      <td>-0.981223</td>\n",
       "      <td>-0.701475</td>\n",
       "      <td>-0.197386</td>\n",
       "      <td>-1.185646</td>\n",
       "    </tr>\n",
       "    <tr>\n",
       "      <th>2</th>\n",
       "      <td>-0.977000</td>\n",
       "      <td>-0.327044</td>\n",
       "      <td>-0.197386</td>\n",
       "      <td>-0.836926</td>\n",
       "    </tr>\n",
       "    <tr>\n",
       "      <th>3</th>\n",
       "      <td>0.194260</td>\n",
       "      <td>-0.417661</td>\n",
       "      <td>-0.197386</td>\n",
       "      <td>-0.836926</td>\n",
       "    </tr>\n",
       "    <tr>\n",
       "      <th>4</th>\n",
       "      <td>3.251923</td>\n",
       "      <td>1.635243</td>\n",
       "      <td>-0.197386</td>\n",
       "      <td>0.557951</td>\n",
       "    </tr>\n",
       "    <tr>\n",
       "      <th>...</th>\n",
       "      <td>...</td>\n",
       "      <td>...</td>\n",
       "      <td>...</td>\n",
       "      <td>...</td>\n",
       "    </tr>\n",
       "    <tr>\n",
       "      <th>235</th>\n",
       "      <td>-0.433603</td>\n",
       "      <td>-0.334119</td>\n",
       "      <td>-0.197386</td>\n",
       "      <td>0.557951</td>\n",
       "    </tr>\n",
       "    <tr>\n",
       "      <th>236</th>\n",
       "      <td>-0.923505</td>\n",
       "      <td>-0.506965</td>\n",
       "      <td>-0.197386</td>\n",
       "      <td>-0.488207</td>\n",
       "    </tr>\n",
       "    <tr>\n",
       "      <th>237</th>\n",
       "      <td>-0.943214</td>\n",
       "      <td>0.110603</td>\n",
       "      <td>-0.197386</td>\n",
       "      <td>-0.139488</td>\n",
       "    </tr>\n",
       "    <tr>\n",
       "      <th>238</th>\n",
       "      <td>-0.850301</td>\n",
       "      <td>-0.278417</td>\n",
       "      <td>-0.197386</td>\n",
       "      <td>-0.488207</td>\n",
       "    </tr>\n",
       "    <tr>\n",
       "      <th>239</th>\n",
       "      <td>1.207850</td>\n",
       "      <td>0.505506</td>\n",
       "      <td>-0.197386</td>\n",
       "      <td>-0.139488</td>\n",
       "    </tr>\n",
       "  </tbody>\n",
       "</table>\n",
       "<p>240 rows × 4 columns</p>\n",
       "</div>"
      ],
      "text/plain": [
       "     Present_Price  Kms_Driven     Owner  Number of Years\n",
       "0        -0.917874   -0.302730 -0.197386        -0.139488\n",
       "1        -0.981223   -0.701475 -0.197386        -1.185646\n",
       "2        -0.977000   -0.327044 -0.197386        -0.836926\n",
       "3         0.194260   -0.417661 -0.197386        -0.836926\n",
       "4         3.251923    1.635243 -0.197386         0.557951\n",
       "..             ...         ...       ...              ...\n",
       "235      -0.433603   -0.334119 -0.197386         0.557951\n",
       "236      -0.923505   -0.506965 -0.197386        -0.488207\n",
       "237      -0.943214    0.110603 -0.197386        -0.139488\n",
       "238      -0.850301   -0.278417 -0.197386        -0.488207\n",
       "239       1.207850    0.505506 -0.197386        -0.139488\n",
       "\n",
       "[240 rows x 4 columns]"
      ]
     },
     "execution_count": 42,
     "metadata": {},
     "output_type": "execute_result"
    }
   ],
   "source": [
    "std_scaler = StandardScaler()\n",
    "x_train_std = std_scaler.fit_transform(x_train[num_cols])\n",
    "x_test_std = std_scaler.transform(x_test[num_cols])\n",
    "\n",
    "x_train_std_df = pd.DataFrame(x_train_std, columns=num_cols)\n",
    "x_test_std_df = pd.DataFrame(x_test_std, columns=num_cols)\n",
    "\n",
    "x_train_std_df "
   ]
  },
  {
   "cell_type": "code",
   "execution_count": 43,
   "id": "25d1ce61",
   "metadata": {
    "execution": {
     "iopub.execute_input": "2023-09-09T12:13:09.507232Z",
     "iopub.status.busy": "2023-09-09T12:13:09.506769Z",
     "iopub.status.idle": "2023-09-09T12:13:09.533874Z",
     "shell.execute_reply": "2023-09-09T12:13:09.532972Z"
    },
    "papermill": {
     "duration": 0.06233,
     "end_time": "2023-09-09T12:13:09.536165",
     "exception": false,
     "start_time": "2023-09-09T12:13:09.473835",
     "status": "completed"
    },
    "tags": []
   },
   "outputs": [
    {
     "data": {
      "text/html": [
       "<div>\n",
       "<style scoped>\n",
       "    .dataframe tbody tr th:only-of-type {\n",
       "        vertical-align: middle;\n",
       "    }\n",
       "\n",
       "    .dataframe tbody tr th {\n",
       "        vertical-align: top;\n",
       "    }\n",
       "\n",
       "    .dataframe thead th {\n",
       "        text-align: right;\n",
       "    }\n",
       "</style>\n",
       "<table border=\"1\" class=\"dataframe\">\n",
       "  <thead>\n",
       "    <tr style=\"text-align: right;\">\n",
       "      <th></th>\n",
       "      <th>Present_Price</th>\n",
       "      <th>Kms_Driven</th>\n",
       "      <th>Owner</th>\n",
       "      <th>Number of Years</th>\n",
       "    </tr>\n",
       "  </thead>\n",
       "  <tbody>\n",
       "    <tr>\n",
       "      <th>count</th>\n",
       "      <td>240.000000</td>\n",
       "      <td>240.00000</td>\n",
       "      <td>240.000000</td>\n",
       "      <td>240.000000</td>\n",
       "    </tr>\n",
       "    <tr>\n",
       "      <th>mean</th>\n",
       "      <td>7.510083</td>\n",
       "      <td>37451.01250</td>\n",
       "      <td>0.037500</td>\n",
       "      <td>9.400000</td>\n",
       "    </tr>\n",
       "    <tr>\n",
       "      <th>std</th>\n",
       "      <td>7.118309</td>\n",
       "      <td>41215.01059</td>\n",
       "      <td>0.190381</td>\n",
       "      <td>2.873628</td>\n",
       "    </tr>\n",
       "    <tr>\n",
       "      <th>min</th>\n",
       "      <td>0.320000</td>\n",
       "      <td>500.00000</td>\n",
       "      <td>0.000000</td>\n",
       "      <td>5.000000</td>\n",
       "    </tr>\n",
       "    <tr>\n",
       "      <th>25%</th>\n",
       "      <td>1.452500</td>\n",
       "      <td>15000.75000</td>\n",
       "      <td>0.000000</td>\n",
       "      <td>7.000000</td>\n",
       "    </tr>\n",
       "    <tr>\n",
       "      <th>50%</th>\n",
       "      <td>6.775000</td>\n",
       "      <td>33224.00000</td>\n",
       "      <td>0.000000</td>\n",
       "      <td>9.000000</td>\n",
       "    </tr>\n",
       "    <tr>\n",
       "      <th>75%</th>\n",
       "      <td>9.900000</td>\n",
       "      <td>48250.00000</td>\n",
       "      <td>0.000000</td>\n",
       "      <td>11.000000</td>\n",
       "    </tr>\n",
       "    <tr>\n",
       "      <th>max</th>\n",
       "      <td>35.960000</td>\n",
       "      <td>500000.00000</td>\n",
       "      <td>1.000000</td>\n",
       "      <td>20.000000</td>\n",
       "    </tr>\n",
       "  </tbody>\n",
       "</table>\n",
       "</div>"
      ],
      "text/plain": [
       "       Present_Price    Kms_Driven       Owner  Number of Years\n",
       "count     240.000000     240.00000  240.000000       240.000000\n",
       "mean        7.510083   37451.01250    0.037500         9.400000\n",
       "std         7.118309   41215.01059    0.190381         2.873628\n",
       "min         0.320000     500.00000    0.000000         5.000000\n",
       "25%         1.452500   15000.75000    0.000000         7.000000\n",
       "50%         6.775000   33224.00000    0.000000         9.000000\n",
       "75%         9.900000   48250.00000    0.000000        11.000000\n",
       "max        35.960000  500000.00000    1.000000        20.000000"
      ]
     },
     "execution_count": 43,
     "metadata": {},
     "output_type": "execute_result"
    }
   ],
   "source": [
    "# before standard scaling\n",
    "x_train[num_cols].describe()"
   ]
  },
  {
   "cell_type": "code",
   "execution_count": 44,
   "id": "194f003d",
   "metadata": {
    "execution": {
     "iopub.execute_input": "2023-09-09T12:13:09.600423Z",
     "iopub.status.busy": "2023-09-09T12:13:09.599227Z",
     "iopub.status.idle": "2023-09-09T12:13:09.630551Z",
     "shell.execute_reply": "2023-09-09T12:13:09.629320Z"
    },
    "papermill": {
     "duration": 0.066179,
     "end_time": "2023-09-09T12:13:09.632944",
     "exception": false,
     "start_time": "2023-09-09T12:13:09.566765",
     "status": "completed"
    },
    "tags": []
   },
   "outputs": [
    {
     "data": {
      "text/html": [
       "<div>\n",
       "<style scoped>\n",
       "    .dataframe tbody tr th:only-of-type {\n",
       "        vertical-align: middle;\n",
       "    }\n",
       "\n",
       "    .dataframe tbody tr th {\n",
       "        vertical-align: top;\n",
       "    }\n",
       "\n",
       "    .dataframe thead th {\n",
       "        text-align: right;\n",
       "    }\n",
       "</style>\n",
       "<table border=\"1\" class=\"dataframe\">\n",
       "  <thead>\n",
       "    <tr style=\"text-align: right;\">\n",
       "      <th></th>\n",
       "      <th>Present_Price</th>\n",
       "      <th>Kms_Driven</th>\n",
       "      <th>Owner</th>\n",
       "      <th>Number of Years</th>\n",
       "    </tr>\n",
       "  </thead>\n",
       "  <tbody>\n",
       "    <tr>\n",
       "      <th>count</th>\n",
       "      <td>240.00</td>\n",
       "      <td>240.00</td>\n",
       "      <td>240.00</td>\n",
       "      <td>240.00</td>\n",
       "    </tr>\n",
       "    <tr>\n",
       "      <th>mean</th>\n",
       "      <td>-0.00</td>\n",
       "      <td>0.00</td>\n",
       "      <td>0.00</td>\n",
       "      <td>-0.00</td>\n",
       "    </tr>\n",
       "    <tr>\n",
       "      <th>std</th>\n",
       "      <td>1.00</td>\n",
       "      <td>1.00</td>\n",
       "      <td>1.00</td>\n",
       "      <td>1.00</td>\n",
       "    </tr>\n",
       "    <tr>\n",
       "      <th>min</th>\n",
       "      <td>-1.01</td>\n",
       "      <td>-0.90</td>\n",
       "      <td>-0.20</td>\n",
       "      <td>-1.53</td>\n",
       "    </tr>\n",
       "    <tr>\n",
       "      <th>25%</th>\n",
       "      <td>-0.85</td>\n",
       "      <td>-0.55</td>\n",
       "      <td>-0.20</td>\n",
       "      <td>-0.84</td>\n",
       "    </tr>\n",
       "    <tr>\n",
       "      <th>50%</th>\n",
       "      <td>-0.10</td>\n",
       "      <td>-0.10</td>\n",
       "      <td>-0.20</td>\n",
       "      <td>-0.14</td>\n",
       "    </tr>\n",
       "    <tr>\n",
       "      <th>75%</th>\n",
       "      <td>0.34</td>\n",
       "      <td>0.26</td>\n",
       "      <td>-0.20</td>\n",
       "      <td>0.56</td>\n",
       "    </tr>\n",
       "    <tr>\n",
       "      <th>max</th>\n",
       "      <td>4.01</td>\n",
       "      <td>11.25</td>\n",
       "      <td>5.07</td>\n",
       "      <td>3.70</td>\n",
       "    </tr>\n",
       "  </tbody>\n",
       "</table>\n",
       "</div>"
      ],
      "text/plain": [
       "       Present_Price  Kms_Driven   Owner  Number of Years\n",
       "count         240.00      240.00  240.00           240.00\n",
       "mean           -0.00        0.00    0.00            -0.00\n",
       "std             1.00        1.00    1.00             1.00\n",
       "min            -1.01       -0.90   -0.20            -1.53\n",
       "25%            -0.85       -0.55   -0.20            -0.84\n",
       "50%            -0.10       -0.10   -0.20            -0.14\n",
       "75%             0.34        0.26   -0.20             0.56\n",
       "max             4.01       11.25    5.07             3.70"
      ]
     },
     "execution_count": 44,
     "metadata": {},
     "output_type": "execute_result"
    }
   ],
   "source": [
    "# after Standard Scaling --. mean = 0 and standard_deviation =1\n",
    "round(x_train_std_df.describe(),2)"
   ]
  },
  {
   "cell_type": "markdown",
   "id": "8ecbbf21",
   "metadata": {
    "papermill": {
     "duration": 0.030762,
     "end_time": "2023-09-09T12:13:09.694552",
     "exception": false,
     "start_time": "2023-09-09T12:13:09.663790",
     "status": "completed"
    },
    "tags": []
   },
   "source": [
    "# Min Max Scaling"
   ]
  },
  {
   "cell_type": "code",
   "execution_count": 45,
   "id": "ddf680f0",
   "metadata": {
    "execution": {
     "iopub.execute_input": "2023-09-09T12:13:09.758624Z",
     "iopub.status.busy": "2023-09-09T12:13:09.758196Z",
     "iopub.status.idle": "2023-09-09T12:13:09.785777Z",
     "shell.execute_reply": "2023-09-09T12:13:09.784534Z"
    },
    "papermill": {
     "duration": 0.062526,
     "end_time": "2023-09-09T12:13:09.788191",
     "exception": false,
     "start_time": "2023-09-09T12:13:09.725665",
     "status": "completed"
    },
    "tags": []
   },
   "outputs": [
    {
     "data": {
      "text/html": [
       "<div>\n",
       "<style scoped>\n",
       "    .dataframe tbody tr th:only-of-type {\n",
       "        vertical-align: middle;\n",
       "    }\n",
       "\n",
       "    .dataframe tbody tr th {\n",
       "        vertical-align: top;\n",
       "    }\n",
       "\n",
       "    .dataframe thead th {\n",
       "        text-align: right;\n",
       "    }\n",
       "</style>\n",
       "<table border=\"1\" class=\"dataframe\">\n",
       "  <thead>\n",
       "    <tr style=\"text-align: right;\">\n",
       "      <th></th>\n",
       "      <th>Present_Price</th>\n",
       "      <th>Kms_Driven</th>\n",
       "      <th>Owner</th>\n",
       "      <th>Number of Years</th>\n",
       "    </tr>\n",
       "  </thead>\n",
       "  <tbody>\n",
       "    <tr>\n",
       "      <th>0</th>\n",
       "      <td>0.018799</td>\n",
       "      <td>0.049049</td>\n",
       "      <td>0.0</td>\n",
       "      <td>0.266667</td>\n",
       "    </tr>\n",
       "    <tr>\n",
       "      <th>1</th>\n",
       "      <td>0.006173</td>\n",
       "      <td>0.016216</td>\n",
       "      <td>0.0</td>\n",
       "      <td>0.066667</td>\n",
       "    </tr>\n",
       "    <tr>\n",
       "      <th>2</th>\n",
       "      <td>0.007015</td>\n",
       "      <td>0.047047</td>\n",
       "      <td>0.0</td>\n",
       "      <td>0.133333</td>\n",
       "    </tr>\n",
       "    <tr>\n",
       "      <th>3</th>\n",
       "      <td>0.240460</td>\n",
       "      <td>0.039586</td>\n",
       "      <td>0.0</td>\n",
       "      <td>0.133333</td>\n",
       "    </tr>\n",
       "    <tr>\n",
       "      <th>4</th>\n",
       "      <td>0.849888</td>\n",
       "      <td>0.208623</td>\n",
       "      <td>0.0</td>\n",
       "      <td>0.400000</td>\n",
       "    </tr>\n",
       "    <tr>\n",
       "      <th>...</th>\n",
       "      <td>...</td>\n",
       "      <td>...</td>\n",
       "      <td>...</td>\n",
       "      <td>...</td>\n",
       "    </tr>\n",
       "    <tr>\n",
       "      <th>235</th>\n",
       "      <td>0.115320</td>\n",
       "      <td>0.046464</td>\n",
       "      <td>0.0</td>\n",
       "      <td>0.400000</td>\n",
       "    </tr>\n",
       "    <tr>\n",
       "      <th>236</th>\n",
       "      <td>0.017677</td>\n",
       "      <td>0.032232</td>\n",
       "      <td>0.0</td>\n",
       "      <td>0.200000</td>\n",
       "    </tr>\n",
       "    <tr>\n",
       "      <th>237</th>\n",
       "      <td>0.013749</td>\n",
       "      <td>0.083083</td>\n",
       "      <td>0.0</td>\n",
       "      <td>0.266667</td>\n",
       "    </tr>\n",
       "    <tr>\n",
       "      <th>238</th>\n",
       "      <td>0.032267</td>\n",
       "      <td>0.051051</td>\n",
       "      <td>0.0</td>\n",
       "      <td>0.200000</td>\n",
       "    </tr>\n",
       "    <tr>\n",
       "      <th>239</th>\n",
       "      <td>0.442480</td>\n",
       "      <td>0.115600</td>\n",
       "      <td>0.0</td>\n",
       "      <td>0.266667</td>\n",
       "    </tr>\n",
       "  </tbody>\n",
       "</table>\n",
       "<p>240 rows × 4 columns</p>\n",
       "</div>"
      ],
      "text/plain": [
       "     Present_Price  Kms_Driven  Owner  Number of Years\n",
       "0         0.018799    0.049049    0.0         0.266667\n",
       "1         0.006173    0.016216    0.0         0.066667\n",
       "2         0.007015    0.047047    0.0         0.133333\n",
       "3         0.240460    0.039586    0.0         0.133333\n",
       "4         0.849888    0.208623    0.0         0.400000\n",
       "..             ...         ...    ...              ...\n",
       "235       0.115320    0.046464    0.0         0.400000\n",
       "236       0.017677    0.032232    0.0         0.200000\n",
       "237       0.013749    0.083083    0.0         0.266667\n",
       "238       0.032267    0.051051    0.0         0.200000\n",
       "239       0.442480    0.115600    0.0         0.266667\n",
       "\n",
       "[240 rows x 4 columns]"
      ]
     },
     "execution_count": 45,
     "metadata": {},
     "output_type": "execute_result"
    }
   ],
   "source": [
    "mm_scaler = MinMaxScaler()\n",
    "x_train_mm = mm_scaler.fit_transform(x_train[num_cols])\n",
    "x_test_mm = mm_scaler.transform(x_test[num_cols])\n",
    "\n",
    "x_train_mm_df = pd.DataFrame(x_train_mm, columns=num_cols)\n",
    "x_test_mm_df = pd.DataFrame(x_test_mm, columns=num_cols)\n",
    "\n",
    "x_train_mm_df "
   ]
  },
  {
   "cell_type": "code",
   "execution_count": 46,
   "id": "1c958078",
   "metadata": {
    "execution": {
     "iopub.execute_input": "2023-09-09T12:13:09.852799Z",
     "iopub.status.busy": "2023-09-09T12:13:09.852317Z",
     "iopub.status.idle": "2023-09-09T12:13:09.877962Z",
     "shell.execute_reply": "2023-09-09T12:13:09.876711Z"
    },
    "papermill": {
     "duration": 0.061067,
     "end_time": "2023-09-09T12:13:09.880710",
     "exception": false,
     "start_time": "2023-09-09T12:13:09.819643",
     "status": "completed"
    },
    "tags": []
   },
   "outputs": [
    {
     "data": {
      "text/html": [
       "<div>\n",
       "<style scoped>\n",
       "    .dataframe tbody tr th:only-of-type {\n",
       "        vertical-align: middle;\n",
       "    }\n",
       "\n",
       "    .dataframe tbody tr th {\n",
       "        vertical-align: top;\n",
       "    }\n",
       "\n",
       "    .dataframe thead th {\n",
       "        text-align: right;\n",
       "    }\n",
       "</style>\n",
       "<table border=\"1\" class=\"dataframe\">\n",
       "  <thead>\n",
       "    <tr style=\"text-align: right;\">\n",
       "      <th></th>\n",
       "      <th>Present_Price</th>\n",
       "      <th>Kms_Driven</th>\n",
       "      <th>Owner</th>\n",
       "      <th>Number of Years</th>\n",
       "    </tr>\n",
       "  </thead>\n",
       "  <tbody>\n",
       "    <tr>\n",
       "      <th>count</th>\n",
       "      <td>240.000000</td>\n",
       "      <td>240.000000</td>\n",
       "      <td>240.000000</td>\n",
       "      <td>240.000000</td>\n",
       "    </tr>\n",
       "    <tr>\n",
       "      <th>mean</th>\n",
       "      <td>0.201742</td>\n",
       "      <td>0.073976</td>\n",
       "      <td>0.037500</td>\n",
       "      <td>0.293333</td>\n",
       "    </tr>\n",
       "    <tr>\n",
       "      <th>std</th>\n",
       "      <td>0.199728</td>\n",
       "      <td>0.082513</td>\n",
       "      <td>0.190381</td>\n",
       "      <td>0.191575</td>\n",
       "    </tr>\n",
       "    <tr>\n",
       "      <th>min</th>\n",
       "      <td>0.000000</td>\n",
       "      <td>0.000000</td>\n",
       "      <td>0.000000</td>\n",
       "      <td>0.000000</td>\n",
       "    </tr>\n",
       "    <tr>\n",
       "      <th>25%</th>\n",
       "      <td>0.031776</td>\n",
       "      <td>0.029031</td>\n",
       "      <td>0.000000</td>\n",
       "      <td>0.133333</td>\n",
       "    </tr>\n",
       "    <tr>\n",
       "      <th>50%</th>\n",
       "      <td>0.181117</td>\n",
       "      <td>0.065514</td>\n",
       "      <td>0.000000</td>\n",
       "      <td>0.266667</td>\n",
       "    </tr>\n",
       "    <tr>\n",
       "      <th>75%</th>\n",
       "      <td>0.268799</td>\n",
       "      <td>0.095596</td>\n",
       "      <td>0.000000</td>\n",
       "      <td>0.400000</td>\n",
       "    </tr>\n",
       "    <tr>\n",
       "      <th>max</th>\n",
       "      <td>1.000000</td>\n",
       "      <td>1.000000</td>\n",
       "      <td>1.000000</td>\n",
       "      <td>1.000000</td>\n",
       "    </tr>\n",
       "  </tbody>\n",
       "</table>\n",
       "</div>"
      ],
      "text/plain": [
       "       Present_Price  Kms_Driven       Owner  Number of Years\n",
       "count     240.000000  240.000000  240.000000       240.000000\n",
       "mean        0.201742    0.073976    0.037500         0.293333\n",
       "std         0.199728    0.082513    0.190381         0.191575\n",
       "min         0.000000    0.000000    0.000000         0.000000\n",
       "25%         0.031776    0.029031    0.000000         0.133333\n",
       "50%         0.181117    0.065514    0.000000         0.266667\n",
       "75%         0.268799    0.095596    0.000000         0.400000\n",
       "max         1.000000    1.000000    1.000000         1.000000"
      ]
     },
     "execution_count": 46,
     "metadata": {},
     "output_type": "execute_result"
    }
   ],
   "source": [
    "# after minmax scaler  --> min=0 and max=1\n",
    "x_train_mm_df.describe()"
   ]
  },
  {
   "cell_type": "markdown",
   "id": "1353ad41",
   "metadata": {
    "papermill": {
     "duration": 0.031259,
     "end_time": "2023-09-09T12:13:09.943742",
     "exception": false,
     "start_time": "2023-09-09T12:13:09.912483",
     "status": "completed"
    },
    "tags": []
   },
   "source": [
    "# Concat encoded and scaled data columns"
   ]
  },
  {
   "cell_type": "code",
   "execution_count": 47,
   "id": "964bf452",
   "metadata": {
    "execution": {
     "iopub.execute_input": "2023-09-09T12:13:10.010002Z",
     "iopub.status.busy": "2023-09-09T12:13:10.008973Z",
     "iopub.status.idle": "2023-09-09T12:13:10.029953Z",
     "shell.execute_reply": "2023-09-09T12:13:10.028745Z"
    },
    "papermill": {
     "duration": 0.056996,
     "end_time": "2023-09-09T12:13:10.032534",
     "exception": false,
     "start_time": "2023-09-09T12:13:09.975538",
     "status": "completed"
    },
    "tags": []
   },
   "outputs": [
    {
     "data": {
      "text/html": [
       "<div>\n",
       "<style scoped>\n",
       "    .dataframe tbody tr th:only-of-type {\n",
       "        vertical-align: middle;\n",
       "    }\n",
       "\n",
       "    .dataframe tbody tr th {\n",
       "        vertical-align: top;\n",
       "    }\n",
       "\n",
       "    .dataframe thead th {\n",
       "        text-align: right;\n",
       "    }\n",
       "</style>\n",
       "<table border=\"1\" class=\"dataframe\">\n",
       "  <thead>\n",
       "    <tr style=\"text-align: right;\">\n",
       "      <th></th>\n",
       "      <th>Fuel_Type_Diesel</th>\n",
       "      <th>Fuel_Type_Petrol</th>\n",
       "      <th>Seller_Type_Individual</th>\n",
       "      <th>Transmission_Manual</th>\n",
       "      <th>Present_Price</th>\n",
       "      <th>Kms_Driven</th>\n",
       "      <th>Owner</th>\n",
       "      <th>Number of Years</th>\n",
       "    </tr>\n",
       "  </thead>\n",
       "  <tbody>\n",
       "    <tr>\n",
       "      <th>0</th>\n",
       "      <td>0.0</td>\n",
       "      <td>1.0</td>\n",
       "      <td>1.0</td>\n",
       "      <td>1.0</td>\n",
       "      <td>-0.917874</td>\n",
       "      <td>-0.302730</td>\n",
       "      <td>-0.197386</td>\n",
       "      <td>-0.139488</td>\n",
       "    </tr>\n",
       "    <tr>\n",
       "      <th>1</th>\n",
       "      <td>0.0</td>\n",
       "      <td>1.0</td>\n",
       "      <td>1.0</td>\n",
       "      <td>1.0</td>\n",
       "      <td>-0.981223</td>\n",
       "      <td>-0.701475</td>\n",
       "      <td>-0.197386</td>\n",
       "      <td>-1.185646</td>\n",
       "    </tr>\n",
       "    <tr>\n",
       "      <th>2</th>\n",
       "      <td>0.0</td>\n",
       "      <td>1.0</td>\n",
       "      <td>1.0</td>\n",
       "      <td>0.0</td>\n",
       "      <td>-0.977000</td>\n",
       "      <td>-0.327044</td>\n",
       "      <td>-0.197386</td>\n",
       "      <td>-0.836926</td>\n",
       "    </tr>\n",
       "    <tr>\n",
       "      <th>3</th>\n",
       "      <td>1.0</td>\n",
       "      <td>0.0</td>\n",
       "      <td>0.0</td>\n",
       "      <td>1.0</td>\n",
       "      <td>0.194260</td>\n",
       "      <td>-0.417661</td>\n",
       "      <td>-0.197386</td>\n",
       "      <td>-0.836926</td>\n",
       "    </tr>\n",
       "    <tr>\n",
       "      <th>4</th>\n",
       "      <td>1.0</td>\n",
       "      <td>0.0</td>\n",
       "      <td>0.0</td>\n",
       "      <td>0.0</td>\n",
       "      <td>3.251923</td>\n",
       "      <td>1.635243</td>\n",
       "      <td>-0.197386</td>\n",
       "      <td>0.557951</td>\n",
       "    </tr>\n",
       "  </tbody>\n",
       "</table>\n",
       "</div>"
      ],
      "text/plain": [
       "   Fuel_Type_Diesel  Fuel_Type_Petrol  Seller_Type_Individual  \\\n",
       "0               0.0               1.0                     1.0   \n",
       "1               0.0               1.0                     1.0   \n",
       "2               0.0               1.0                     1.0   \n",
       "3               1.0               0.0                     0.0   \n",
       "4               1.0               0.0                     0.0   \n",
       "\n",
       "   Transmission_Manual  Present_Price  Kms_Driven     Owner  Number of Years  \n",
       "0                  1.0      -0.917874   -0.302730 -0.197386        -0.139488  \n",
       "1                  1.0      -0.981223   -0.701475 -0.197386        -1.185646  \n",
       "2                  0.0      -0.977000   -0.327044 -0.197386        -0.836926  \n",
       "3                  1.0       0.194260   -0.417661 -0.197386        -0.836926  \n",
       "4                  0.0       3.251923    1.635243 -0.197386         0.557951  "
      ]
     },
     "execution_count": 47,
     "metadata": {},
     "output_type": "execute_result"
    }
   ],
   "source": [
    "# enocded and standard scaled data\n",
    "x_train_ohe_std = pd.concat([x_train_ohe_df, x_train_std_df], axis=1)\n",
    "x_test_ohe_std = pd.concat([x_test_ohe_df, x_test_std_df], axis=1)\n",
    "\n",
    "x_train_ohe_std.head()"
   ]
  },
  {
   "cell_type": "code",
   "execution_count": 48,
   "id": "2b1d3e83",
   "metadata": {
    "execution": {
     "iopub.execute_input": "2023-09-09T12:13:10.099925Z",
     "iopub.status.busy": "2023-09-09T12:13:10.098683Z",
     "iopub.status.idle": "2023-09-09T12:13:10.109164Z",
     "shell.execute_reply": "2023-09-09T12:13:10.107700Z"
    },
    "papermill": {
     "duration": 0.047372,
     "end_time": "2023-09-09T12:13:10.111992",
     "exception": false,
     "start_time": "2023-09-09T12:13:10.064620",
     "status": "completed"
    },
    "tags": []
   },
   "outputs": [
    {
     "data": {
      "text/plain": [
       "Fuel_Type_Diesel          0\n",
       "Fuel_Type_Petrol          0\n",
       "Seller_Type_Individual    0\n",
       "Transmission_Manual       0\n",
       "Present_Price             0\n",
       "Kms_Driven                0\n",
       "Owner                     0\n",
       "Number of Years           0\n",
       "dtype: int64"
      ]
     },
     "execution_count": 48,
     "metadata": {},
     "output_type": "execute_result"
    }
   ],
   "source": [
    "x_train_ohe_std.isnull().sum()"
   ]
  },
  {
   "cell_type": "code",
   "execution_count": 49,
   "id": "3269c4c8",
   "metadata": {
    "execution": {
     "iopub.execute_input": "2023-09-09T12:13:10.179901Z",
     "iopub.status.busy": "2023-09-09T12:13:10.178482Z",
     "iopub.status.idle": "2023-09-09T12:13:10.201370Z",
     "shell.execute_reply": "2023-09-09T12:13:10.199636Z"
    },
    "papermill": {
     "duration": 0.059464,
     "end_time": "2023-09-09T12:13:10.204116",
     "exception": false,
     "start_time": "2023-09-09T12:13:10.144652",
     "status": "completed"
    },
    "tags": []
   },
   "outputs": [
    {
     "data": {
      "text/html": [
       "<div>\n",
       "<style scoped>\n",
       "    .dataframe tbody tr th:only-of-type {\n",
       "        vertical-align: middle;\n",
       "    }\n",
       "\n",
       "    .dataframe tbody tr th {\n",
       "        vertical-align: top;\n",
       "    }\n",
       "\n",
       "    .dataframe thead th {\n",
       "        text-align: right;\n",
       "    }\n",
       "</style>\n",
       "<table border=\"1\" class=\"dataframe\">\n",
       "  <thead>\n",
       "    <tr style=\"text-align: right;\">\n",
       "      <th></th>\n",
       "      <th>Fuel_Type_Diesel</th>\n",
       "      <th>Fuel_Type_Petrol</th>\n",
       "      <th>Seller_Type_Individual</th>\n",
       "      <th>Transmission_Manual</th>\n",
       "      <th>Present_Price</th>\n",
       "      <th>Kms_Driven</th>\n",
       "      <th>Owner</th>\n",
       "      <th>Number of Years</th>\n",
       "    </tr>\n",
       "  </thead>\n",
       "  <tbody>\n",
       "    <tr>\n",
       "      <th>0</th>\n",
       "      <td>0.0</td>\n",
       "      <td>1.0</td>\n",
       "      <td>1.0</td>\n",
       "      <td>1.0</td>\n",
       "      <td>0.018799</td>\n",
       "      <td>0.049049</td>\n",
       "      <td>0.0</td>\n",
       "      <td>0.266667</td>\n",
       "    </tr>\n",
       "    <tr>\n",
       "      <th>1</th>\n",
       "      <td>0.0</td>\n",
       "      <td>1.0</td>\n",
       "      <td>1.0</td>\n",
       "      <td>1.0</td>\n",
       "      <td>0.006173</td>\n",
       "      <td>0.016216</td>\n",
       "      <td>0.0</td>\n",
       "      <td>0.066667</td>\n",
       "    </tr>\n",
       "    <tr>\n",
       "      <th>2</th>\n",
       "      <td>0.0</td>\n",
       "      <td>1.0</td>\n",
       "      <td>1.0</td>\n",
       "      <td>0.0</td>\n",
       "      <td>0.007015</td>\n",
       "      <td>0.047047</td>\n",
       "      <td>0.0</td>\n",
       "      <td>0.133333</td>\n",
       "    </tr>\n",
       "    <tr>\n",
       "      <th>3</th>\n",
       "      <td>1.0</td>\n",
       "      <td>0.0</td>\n",
       "      <td>0.0</td>\n",
       "      <td>1.0</td>\n",
       "      <td>0.240460</td>\n",
       "      <td>0.039586</td>\n",
       "      <td>0.0</td>\n",
       "      <td>0.133333</td>\n",
       "    </tr>\n",
       "    <tr>\n",
       "      <th>4</th>\n",
       "      <td>1.0</td>\n",
       "      <td>0.0</td>\n",
       "      <td>0.0</td>\n",
       "      <td>0.0</td>\n",
       "      <td>0.849888</td>\n",
       "      <td>0.208623</td>\n",
       "      <td>0.0</td>\n",
       "      <td>0.400000</td>\n",
       "    </tr>\n",
       "  </tbody>\n",
       "</table>\n",
       "</div>"
      ],
      "text/plain": [
       "   Fuel_Type_Diesel  Fuel_Type_Petrol  Seller_Type_Individual  \\\n",
       "0               0.0               1.0                     1.0   \n",
       "1               0.0               1.0                     1.0   \n",
       "2               0.0               1.0                     1.0   \n",
       "3               1.0               0.0                     0.0   \n",
       "4               1.0               0.0                     0.0   \n",
       "\n",
       "   Transmission_Manual  Present_Price  Kms_Driven  Owner  Number of Years  \n",
       "0                  1.0       0.018799    0.049049    0.0         0.266667  \n",
       "1                  1.0       0.006173    0.016216    0.0         0.066667  \n",
       "2                  0.0       0.007015    0.047047    0.0         0.133333  \n",
       "3                  1.0       0.240460    0.039586    0.0         0.133333  \n",
       "4                  0.0       0.849888    0.208623    0.0         0.400000  "
      ]
     },
     "execution_count": 49,
     "metadata": {},
     "output_type": "execute_result"
    }
   ],
   "source": [
    "# encoded and minmax scaled data\n",
    "x_train_ohe_mm = pd.concat([x_train_ohe_df, x_train_mm_df], axis=1)\n",
    "x_test_ohe_mm = pd.concat([x_test_ohe_df, x_test_mm_df], axis=1)\n",
    "\n",
    "x_train_ohe_mm.head()"
   ]
  },
  {
   "cell_type": "code",
   "execution_count": 50,
   "id": "99ee6aef",
   "metadata": {
    "execution": {
     "iopub.execute_input": "2023-09-09T12:13:10.272144Z",
     "iopub.status.busy": "2023-09-09T12:13:10.270861Z",
     "iopub.status.idle": "2023-09-09T12:13:10.282492Z",
     "shell.execute_reply": "2023-09-09T12:13:10.281044Z"
    },
    "papermill": {
     "duration": 0.048684,
     "end_time": "2023-09-09T12:13:10.285190",
     "exception": false,
     "start_time": "2023-09-09T12:13:10.236506",
     "status": "completed"
    },
    "tags": []
   },
   "outputs": [
    {
     "data": {
      "text/plain": [
       "Fuel_Type_Diesel          0\n",
       "Fuel_Type_Petrol          0\n",
       "Seller_Type_Individual    0\n",
       "Transmission_Manual       0\n",
       "Present_Price             0\n",
       "Kms_Driven                0\n",
       "Owner                     0\n",
       "Number of Years           0\n",
       "dtype: int64"
      ]
     },
     "execution_count": 50,
     "metadata": {},
     "output_type": "execute_result"
    }
   ],
   "source": [
    "x_train_ohe_mm.isnull().sum()"
   ]
  },
  {
   "cell_type": "code",
   "execution_count": 51,
   "id": "b85990bd",
   "metadata": {
    "execution": {
     "iopub.execute_input": "2023-09-09T12:13:10.353374Z",
     "iopub.status.busy": "2023-09-09T12:13:10.352730Z",
     "iopub.status.idle": "2023-09-09T12:13:10.391532Z",
     "shell.execute_reply": "2023-09-09T12:13:10.390714Z"
    },
    "papermill": {
     "duration": 0.075683,
     "end_time": "2023-09-09T12:13:10.393863",
     "exception": false,
     "start_time": "2023-09-09T12:13:10.318180",
     "status": "completed"
    },
    "tags": []
   },
   "outputs": [
    {
     "data": {
      "text/plain": [
       "0.827235392234982"
      ]
     },
     "execution_count": 51,
     "metadata": {},
     "output_type": "execute_result"
    }
   ],
   "source": [
    "# Linear Regression with sstandard scaled data\n",
    "from sklearn.linear_model import LinearRegression\n",
    "\n",
    "model = LinearRegression()\n",
    "model.fit(x_train_ohe_std, y_train)\n",
    "y_pred = model.predict(x_test_ohe_std)\n",
    "score_model = model.score(x_test_ohe_std, y_test)\n",
    "score_model"
   ]
  },
  {
   "cell_type": "markdown",
   "id": "9f3812a2",
   "metadata": {
    "papermill": {
     "duration": 0.03238,
     "end_time": "2023-09-09T12:13:10.459024",
     "exception": false,
     "start_time": "2023-09-09T12:13:10.426644",
     "status": "completed"
    },
    "tags": []
   },
   "source": [
    "# Evaluation"
   ]
  },
  {
   "cell_type": "code",
   "execution_count": 52,
   "id": "5f7ce180",
   "metadata": {
    "execution": {
     "iopub.execute_input": "2023-09-09T12:13:10.527425Z",
     "iopub.status.busy": "2023-09-09T12:13:10.526186Z",
     "iopub.status.idle": "2023-09-09T12:13:10.531670Z",
     "shell.execute_reply": "2023-09-09T12:13:10.530650Z"
    },
    "papermill": {
     "duration": 0.042243,
     "end_time": "2023-09-09T12:13:10.534334",
     "exception": false,
     "start_time": "2023-09-09T12:13:10.492091",
     "status": "completed"
    },
    "tags": []
   },
   "outputs": [],
   "source": [
    "# Evaluation\n",
    "from sklearn.metrics import mean_squared_error, mean_absolute_error,r2_score "
   ]
  },
  {
   "cell_type": "code",
   "execution_count": 53,
   "id": "9cf2f8fb",
   "metadata": {
    "execution": {
     "iopub.execute_input": "2023-09-09T12:13:10.601670Z",
     "iopub.status.busy": "2023-09-09T12:13:10.601254Z",
     "iopub.status.idle": "2023-09-09T12:13:10.612015Z",
     "shell.execute_reply": "2023-09-09T12:13:10.610758Z"
    },
    "papermill": {
     "duration": 0.04787,
     "end_time": "2023-09-09T12:13:10.615098",
     "exception": false,
     "start_time": "2023-09-09T12:13:10.567228",
     "status": "completed"
    },
    "tags": []
   },
   "outputs": [
    {
     "name": "stdout",
     "output_type": "stream",
     "text": [
      "mean squared error of our ml model is : 7.177738696993015 \n",
      "\n",
      "Root mean square :  2.679130212772984 \n",
      "\n",
      "mean absolute error of our ml model is :  1.4333107114753163 \n",
      "\n",
      "r2_score is :  0.827235392234982\n"
     ]
    }
   ],
   "source": [
    "# mean square error\n",
    "\n",
    "mse = mean_squared_error(y_test,y_pred)\n",
    "print(\"mean squared error of our ml model is :\" , mse, \"\\n\")\n",
    "\n",
    "# root mean square error\n",
    "rmse = np.sqrt(mse)\n",
    "print(\"Root mean square : \",rmse, '\\n')\n",
    "\n",
    "# mean absolute error\n",
    "mae = mean_absolute_error(y_test, y_pred)\n",
    "print(\"mean absolute error of our ml model is : \",mae,'\\n' )\n",
    "\n",
    "# r2  score\n",
    "r2_value = r2_score(y_test, y_pred)\n",
    "print(\"r2_score is : \", r2_value)\n",
    "\n"
   ]
  },
  {
   "cell_type": "code",
   "execution_count": 54,
   "id": "751426eb",
   "metadata": {
    "execution": {
     "iopub.execute_input": "2023-09-09T12:13:10.683392Z",
     "iopub.status.busy": "2023-09-09T12:13:10.682300Z",
     "iopub.status.idle": "2023-09-09T12:13:10.688795Z",
     "shell.execute_reply": "2023-09-09T12:13:10.687632Z"
    },
    "papermill": {
     "duration": 0.043515,
     "end_time": "2023-09-09T12:13:10.691532",
     "exception": false,
     "start_time": "2023-09-09T12:13:10.648017",
     "status": "completed"
    },
    "tags": []
   },
   "outputs": [],
   "source": [
    "lr = LinearRegression()\n",
    "svr = SVR()\n",
    "knn_r = KNeighborsRegressor()\n",
    "dtr = DecisionTreeRegressor()\n",
    "rfr = RandomForestRegressor()"
   ]
  },
  {
   "cell_type": "code",
   "execution_count": 55,
   "id": "e88323c3",
   "metadata": {
    "execution": {
     "iopub.execute_input": "2023-09-09T12:13:10.759064Z",
     "iopub.status.busy": "2023-09-09T12:13:10.758602Z",
     "iopub.status.idle": "2023-09-09T12:13:10.766887Z",
     "shell.execute_reply": "2023-09-09T12:13:10.765579Z"
    },
    "papermill": {
     "duration": 0.044805,
     "end_time": "2023-09-09T12:13:10.769299",
     "exception": false,
     "start_time": "2023-09-09T12:13:10.724494",
     "status": "completed"
    },
    "tags": []
   },
   "outputs": [],
   "source": [
    "regressors = {'Linear Regression':lr,\n",
    "        'Support Vector Regressor':svr,\n",
    "        'K-Nearest Neighbors Regressor':knn_r,\n",
    "        'Decision Tree Regressor':dtr,\n",
    "        'Random Forest Regressor':rfr,\n",
    "        }\n",
    "\n",
    "def train_model(model,x_train,y_train,x_test,y_test):\n",
    "    model.fit(x_train, y_train)\n",
    "    y_pred = model.predict(x_test)\n",
    "    mse = mean_squared_error(y_test, y_pred)\n",
    "    r2score = r2_score(y_test,y_pred)\n",
    "    \n",
    "    return mse,r2score"
   ]
  },
  {
   "cell_type": "markdown",
   "id": "6c7b4857",
   "metadata": {
    "papermill": {
     "duration": 0.032968,
     "end_time": "2023-09-09T12:13:10.835260",
     "exception": false,
     "start_time": "2023-09-09T12:13:10.802292",
     "status": "completed"
    },
    "tags": []
   },
   "source": [
    "# Performance of few ML model with Standard Scaled data"
   ]
  },
  {
   "cell_type": "code",
   "execution_count": 56,
   "id": "506f5d41",
   "metadata": {
    "execution": {
     "iopub.execute_input": "2023-09-09T12:13:10.905430Z",
     "iopub.status.busy": "2023-09-09T12:13:10.904998Z",
     "iopub.status.idle": "2023-09-09T12:13:11.167243Z",
     "shell.execute_reply": "2023-09-09T12:13:11.165997Z"
    },
    "papermill": {
     "duration": 0.299818,
     "end_time": "2023-09-09T12:13:11.169907",
     "exception": false,
     "start_time": "2023-09-09T12:13:10.870089",
     "status": "completed"
    },
    "tags": []
   },
   "outputs": [
    {
     "data": {
      "text/html": [
       "<div>\n",
       "<style scoped>\n",
       "    .dataframe tbody tr th:only-of-type {\n",
       "        vertical-align: middle;\n",
       "    }\n",
       "\n",
       "    .dataframe tbody tr th {\n",
       "        vertical-align: top;\n",
       "    }\n",
       "\n",
       "    .dataframe thead th {\n",
       "        text-align: right;\n",
       "    }\n",
       "</style>\n",
       "<table border=\"1\" class=\"dataframe\">\n",
       "  <thead>\n",
       "    <tr style=\"text-align: right;\">\n",
       "      <th></th>\n",
       "      <th>Models</th>\n",
       "      <th>Mean Squared Error</th>\n",
       "      <th>Root mse</th>\n",
       "      <th>R2_Scores</th>\n",
       "    </tr>\n",
       "  </thead>\n",
       "  <tbody>\n",
       "    <tr>\n",
       "      <th>2</th>\n",
       "      <td>K-Nearest Neighbors Regressor</td>\n",
       "      <td>6.493561</td>\n",
       "      <td>2.548247</td>\n",
       "      <td>0.843703</td>\n",
       "    </tr>\n",
       "    <tr>\n",
       "      <th>0</th>\n",
       "      <td>Linear Regression</td>\n",
       "      <td>7.177739</td>\n",
       "      <td>2.679130</td>\n",
       "      <td>0.827235</td>\n",
       "    </tr>\n",
       "    <tr>\n",
       "      <th>4</th>\n",
       "      <td>Random Forest Regressor</td>\n",
       "      <td>10.512862</td>\n",
       "      <td>3.242354</td>\n",
       "      <td>0.746961</td>\n",
       "    </tr>\n",
       "    <tr>\n",
       "      <th>3</th>\n",
       "      <td>Decision Tree Regressor</td>\n",
       "      <td>14.903726</td>\n",
       "      <td>3.860534</td>\n",
       "      <td>0.641275</td>\n",
       "    </tr>\n",
       "    <tr>\n",
       "      <th>1</th>\n",
       "      <td>Support Vector Regressor</td>\n",
       "      <td>24.593699</td>\n",
       "      <td>4.959203</td>\n",
       "      <td>0.408042</td>\n",
       "    </tr>\n",
       "  </tbody>\n",
       "</table>\n",
       "</div>"
      ],
      "text/plain": [
       "                          Models  Mean Squared Error  Root mse  R2_Scores\n",
       "2  K-Nearest Neighbors Regressor            6.493561  2.548247   0.843703\n",
       "0              Linear Regression            7.177739  2.679130   0.827235\n",
       "4        Random Forest Regressor           10.512862  3.242354   0.746961\n",
       "3        Decision Tree Regressor           14.903726  3.860534   0.641275\n",
       "1       Support Vector Regressor           24.593699  4.959203   0.408042"
      ]
     },
     "execution_count": 56,
     "metadata": {},
     "output_type": "execute_result"
    }
   ],
   "source": [
    "mse_scores = []\n",
    "rmse_scores = []\n",
    "r2_scores = []\n",
    "for name, model in regressors.items():\n",
    "    mse,r2score = train_model(model, x_train_ohe_std , y_train, x_test_ohe_std, y_test)\n",
    "    mse_scores.append(mse)\n",
    "    rmse_scores.append(np.sqrt(mse))\n",
    "    r2_scores.append(r2score)\n",
    "    \n",
    "    \n",
    "performance_woth_standard_scaler = pd.DataFrame({'Models':regressors.keys(),\n",
    "                               'Mean Squared Error':mse_scores,\n",
    "                               'Root mse': rmse_scores,\n",
    "                               'R2_Scores':r2_scores}).sort_values('R2_Scores', ascending=False)\n",
    "\n",
    "performance_woth_standard_scaler"
   ]
  },
  {
   "cell_type": "markdown",
   "id": "305f2105",
   "metadata": {
    "papermill": {
     "duration": 0.033684,
     "end_time": "2023-09-09T12:13:11.236928",
     "exception": false,
     "start_time": "2023-09-09T12:13:11.203244",
     "status": "completed"
    },
    "tags": []
   },
   "source": [
    "# Performance of few ML model with MinMax Scaled data"
   ]
  },
  {
   "cell_type": "code",
   "execution_count": 57,
   "id": "478f66c4",
   "metadata": {
    "execution": {
     "iopub.execute_input": "2023-09-09T12:13:11.306677Z",
     "iopub.status.busy": "2023-09-09T12:13:11.306266Z",
     "iopub.status.idle": "2023-09-09T12:13:11.570988Z",
     "shell.execute_reply": "2023-09-09T12:13:11.569920Z"
    },
    "papermill": {
     "duration": 0.3036,
     "end_time": "2023-09-09T12:13:11.573674",
     "exception": false,
     "start_time": "2023-09-09T12:13:11.270074",
     "status": "completed"
    },
    "tags": []
   },
   "outputs": [
    {
     "data": {
      "text/html": [
       "<div>\n",
       "<style scoped>\n",
       "    .dataframe tbody tr th:only-of-type {\n",
       "        vertical-align: middle;\n",
       "    }\n",
       "\n",
       "    .dataframe tbody tr th {\n",
       "        vertical-align: top;\n",
       "    }\n",
       "\n",
       "    .dataframe thead th {\n",
       "        text-align: right;\n",
       "    }\n",
       "</style>\n",
       "<table border=\"1\" class=\"dataframe\">\n",
       "  <thead>\n",
       "    <tr style=\"text-align: right;\">\n",
       "      <th></th>\n",
       "      <th>Models</th>\n",
       "      <th>Mean Squared Error</th>\n",
       "      <th>Root mse</th>\n",
       "      <th>R2_Scores</th>\n",
       "    </tr>\n",
       "  </thead>\n",
       "  <tbody>\n",
       "    <tr>\n",
       "      <th>0</th>\n",
       "      <td>Linear Regression</td>\n",
       "      <td>7.177739</td>\n",
       "      <td>2.679130</td>\n",
       "      <td>0.827235</td>\n",
       "    </tr>\n",
       "    <tr>\n",
       "      <th>2</th>\n",
       "      <td>K-Nearest Neighbors Regressor</td>\n",
       "      <td>8.647373</td>\n",
       "      <td>2.940642</td>\n",
       "      <td>0.791862</td>\n",
       "    </tr>\n",
       "    <tr>\n",
       "      <th>4</th>\n",
       "      <td>Random Forest Regressor</td>\n",
       "      <td>11.128271</td>\n",
       "      <td>3.335906</td>\n",
       "      <td>0.732148</td>\n",
       "    </tr>\n",
       "    <tr>\n",
       "      <th>3</th>\n",
       "      <td>Decision Tree Regressor</td>\n",
       "      <td>14.812767</td>\n",
       "      <td>3.848736</td>\n",
       "      <td>0.643464</td>\n",
       "    </tr>\n",
       "    <tr>\n",
       "      <th>1</th>\n",
       "      <td>Support Vector Regressor</td>\n",
       "      <td>21.451073</td>\n",
       "      <td>4.631530</td>\n",
       "      <td>0.483683</td>\n",
       "    </tr>\n",
       "  </tbody>\n",
       "</table>\n",
       "</div>"
      ],
      "text/plain": [
       "                          Models  Mean Squared Error  Root mse  R2_Scores\n",
       "0              Linear Regression            7.177739  2.679130   0.827235\n",
       "2  K-Nearest Neighbors Regressor            8.647373  2.940642   0.791862\n",
       "4        Random Forest Regressor           11.128271  3.335906   0.732148\n",
       "3        Decision Tree Regressor           14.812767  3.848736   0.643464\n",
       "1       Support Vector Regressor           21.451073  4.631530   0.483683"
      ]
     },
     "execution_count": 57,
     "metadata": {},
     "output_type": "execute_result"
    }
   ],
   "source": [
    "mse_scores = []\n",
    "rmse_scores = []\n",
    "r2_scores = []\n",
    "for name, model in regressors.items():\n",
    "    mse,r2score = train_model(model, x_train_ohe_mm , y_train, x_test_ohe_mm, y_test)\n",
    "    mse_scores.append(mse)\n",
    "    rmse_scores.append(np.sqrt(mse))\n",
    "    r2_scores.append(r2score)\n",
    "    \n",
    "    \n",
    "performance_woth_minmax_scaler = pd.DataFrame({'Models':regressors.keys(),\n",
    "                               'Mean Squared Error':mse_scores,\n",
    "                               'Root mse': rmse_scores,\n",
    "                               'R2_Scores':r2_scores}).sort_values('R2_Scores', ascending=False)\n",
    "\n",
    "performance_woth_minmax_scaler"
   ]
  },
  {
   "cell_type": "markdown",
   "id": "0ae9c05e",
   "metadata": {
    "papermill": {
     "duration": 0.034069,
     "end_time": "2023-09-09T12:13:11.641034",
     "exception": false,
     "start_time": "2023-09-09T12:13:11.606965",
     "status": "completed"
    },
    "tags": []
   },
   "source": [
    "### Here we checked few machine learning algorithms and Random Forest regressor gives best r2score than other ml algorithms, so we can store it in pkl file by using joblib or pickle module for further process of web application creation."
   ]
  }
 ],
 "kernelspec": {
  "display_name": "Python 3",
  "language": "python",
  "name": "python3"
 },
 "language_info": {
  "codemirror_mode": {
   "name": "ipython",
   "version": 3
  },
  "file_extension": ".py",
  "mimetype": "text/x-python",
  "name": "python",
  "nbconvert_exporter": "python",
  "pygments_lexer": "ipython3",
  "version": "3.6.4"
 },
 "metadata": {
  "kernelspec": {
   "display_name": "Python 3",
   "language": "python",
   "name": "python3"
  },
  "language_info": {
   "codemirror_mode": {
    "name": "ipython",
    "version": 3
   },
   "file_extension": ".py",
   "mimetype": "text/x-python",
   "name": "python",
   "nbconvert_exporter": "python",
   "pygments_lexer": "ipython3",
   "version": "3.7.12"
  },
  "papermill": {
   "default_parameters": {},
   "duration": 22.738322,
   "end_time": "2023-09-09T12:13:12.497094",
   "environment_variables": {},
   "exception": null,
   "input_path": "__notebook__.ipynb",
   "output_path": "__notebook__.ipynb",
   "parameters": {},
   "start_time": "2023-09-09T12:12:49.758772",
   "version": "2.3.4"
  }
 },
 "nbformat": 4,
 "nbformat_minor": 5
}
